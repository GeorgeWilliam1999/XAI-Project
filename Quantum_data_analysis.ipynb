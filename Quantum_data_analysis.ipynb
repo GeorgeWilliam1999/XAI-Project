{
  "cells": [
    {
      "cell_type": "markdown",
      "metadata": {
        "id": "view-in-github",
        "colab_type": "text"
      },
      "source": [
        "<a href=\"https://colab.research.google.com/github/GeorgeWilliam1999/XAI-Project/blob/main/Quantum_data_analysis.ipynb\" target=\"_parent\"><img src=\"https://colab.research.google.com/assets/colab-badge.svg\" alt=\"Open In Colab\"/></a>"
      ]
    },
    {
      "cell_type": "markdown",
      "metadata": {
        "id": "OHhqicpEP8-C"
      },
      "source": [
        "### Next points\n",
        "\n",
        "Lime on paramters (J,h) in place of ground state\n",
        "\n",
        "Does the circuit mimic the magnetisation observable? - No\n",
        "\n",
        "How can you use Lime to find a circuit that mimics an observable? - Not yet\n",
        "\n",
        "\n",
        "Kitev model on a square lattice hamiltonian - Hamitonian \n",
        "\n",
        "Add RF to end\n",
        "\n",
        "\n",
        "\n",
        "Quantum network and calssical network\n",
        "\n",
        "4 training sizes\n",
        "\n",
        "1: quantum network + classical\n",
        "\n",
        "    - Neural network?\n",
        "\n",
        "2: pure classical\n",
        "\n",
        "3: pure quantum"
      ]
    },
    {
      "cell_type": "markdown",
      "source": [
        "##### SWAP GATE CODE"
      ],
      "metadata": {
        "id": "-yFgk2LYauIf"
      }
    },
    {
      "cell_type": "code",
      "source": [
        "# def SWAP(qubits,state):\n",
        "#     Q_C = QuantumCircuit(qubits*2+1)\n",
        "#     Q_C.add_H_gate(0)\n",
        "#     for i in range(qubits):\n",
        "#         testgate = gate.SWAP(i+1,i+qubits+1)\n",
        "#         test_gate = gate.to_matrix_gate(testgate)\n",
        "#         test_gate.add_control_qubit(nq,0)\n",
        "#         Q_C.add_gate(test_gate)\n",
        "#     Q_C.add_H_gate(0)\n",
        "#     Q_C.update_quantum_state(state)\n",
        "#     return state"
      ],
      "metadata": {
        "id": "BxEEyYGLatoE"
      },
      "execution_count": null,
      "outputs": []
    },
    {
      "cell_type": "code",
      "source": [
        "# import numpy as np\n",
        "# from qiskit import QuantumCircuit, QuantumRegister, ClassicalRegister\n",
        "\n",
        "# num_qubits = 6\n",
        "# circuit1 = QuantumCircuit(num_qubits)\n",
        "# for i in range(num_qubits):\n",
        "#     circuit1.x(i)\n",
        "\n",
        "# circuit2 = QuantumCircuit(num_qubits)\n",
        "# for i in range(num_qubits):\n",
        "#     circuit2.id(i)\n",
        "# circ1 = [i for i in range(1,num_qubits+1)]\n",
        "# circ2 = [i for i in range(num_qubits+1,2num_qubits+1)]\n",
        "# swap_test_circuit = QuantumCircuit(2num_qubits + 1,1)\n",
        "# swap_test_circuit.compose(circuit1, qubits=circ1, inplace=True )\n",
        "# swap_test_circuit.compose(circuit2, qubits=circ2, inplace=True )\n",
        "# swap_test_circuit.h(0)\n",
        "# for i in range(num_qubits):\n",
        "#     swap_test_circuit.cswap(0,i+1,i+num_qubits+1)\n",
        "# swap_test_circuit.h(0)\n",
        "# swap_test_circuit.measure([0],[0])\n",
        "# print(swap_test_circuit.draw('text'))"
      ],
      "metadata": {
        "id": "2byQHSZ8a2qP"
      },
      "execution_count": null,
      "outputs": []
    },
    {
      "cell_type": "markdown",
      "metadata": {
        "id": "bf6koOHpgPUE"
      },
      "source": [
        "## Packages\n"
      ]
    },
    {
      "cell_type": "code",
      "source": [
        "from google.colab import drive\n",
        "drive.mount('/content/drive')"
      ],
      "metadata": {
        "id": "jY74bDqhTvhl"
      },
      "execution_count": null,
      "outputs": []
    },
    {
      "cell_type": "code",
      "execution_count": null,
      "metadata": {
        "id": "XPIyIrigJqGN"
      },
      "outputs": [],
      "source": [
        "!pip install qulacs\n",
        "!pip install lime\n",
        "!pip install -q --upgrade ipython\n",
        "!pip install -q --upgrade ipykernel\n",
        "!pip install openFermion\n",
        "#!pip install numba\n",
        "#!pip install kwant"
      ]
    },
    {
      "cell_type": "code",
      "execution_count": null,
      "metadata": {
        "id": "cqrwhKrjJu_E"
      },
      "outputs": [],
      "source": [
        "import qulacs\n",
        "from qulacs import ParametricQuantumCircuit\n",
        "from qulacs import QuantumState\n",
        "from qulacs.gate import X, RX, RY, RZ, DenseMatrix, Z, to_matrix_gate\n",
        "from qulacs import Observable\n",
        "from qulacs import QuantumCircuit\n",
        "\n",
        "from qulacs.gate import Identity # Identity matrix\n",
        "from qulacs.gate import X, Y, Z     # Pauli\n",
        "from qulacs.gate import H, S, Sdag, sqrtX, sqrtXdag, sqrtY, sqrtYdag # クリフォード\n",
        "from qulacs.gate import T, Tdag # T gate\n",
        "from qulacs.gate import P0, P1 # Projection to 0,1 (not normalized)\n",
        "\n",
        "import numpy as np\n",
        "from numpy import linalg as LA\n",
        "import seaborn as sns\n",
        "import pandas as pd \n",
        "\n",
        "\n",
        "import sklearn\n",
        "import sklearn.datasets\n",
        "import sklearn.ensemble\n",
        "from sklearn.metrics import confusion_matrix\n",
        "from sklearn.model_selection import train_test_split\n",
        "from sklearn.preprocessing import OneHotEncoder\n",
        "from sklearn.utils import shuffle\n",
        "from scipy.optimize import minimize #BFGS works well/cobyla\n",
        "from scipy.sparse import linalg as linalg\n",
        "import scipy\n",
        "\n",
        "from matplotlib import pyplot as plt\n",
        "\n",
        "import lime\n",
        "import lime.lime_tabular\n",
        "\n",
        "import numpy as np\n",
        "#from scipy.sparse import linalg\n",
        "\n",
        "import cirq\n",
        "import openfermion as of\n",
        "from openfermion import QubitOperator\n",
        "from openfermion import FermionOperator\n",
        "from openfermion.linalg import qubit_operator_sparse,get_sparse_operator\n",
        "#import openfermionpyscf as ofpyscf\n",
        "\n",
        "#Parallelisation\n",
        "import numba\n",
        "from numba import njit, jit, prange\n",
        "\n",
        "#Ad hoc\n",
        "import math\n",
        "from math import sqrt\n",
        "\n",
        "#https://www.pythonpool.com/pythons-itertool-product/\n",
        "import itertools as it"
      ]
    },
    {
      "cell_type": "code",
      "execution_count": null,
      "metadata": {
        "id": "RrsI1EWWJM30"
      },
      "outputs": [],
      "source": [
        "#Ising model time evloution\n",
        "\n",
        "def n_q_spin_chain_evol(n):\n",
        "\n",
        "  # Number of qubits : n\n",
        "  # Theta : set of parameters for PQC\n",
        "\n",
        "  angle = 0\n",
        "\n",
        "  # construct parametric quantum circuit with random rotation\n",
        "  circuit = ParametricQuantumCircuit(n)\n",
        "  for i in range(n):\n",
        "    circuit.add_H_gate(i)\n",
        "  for i in range(n):\n",
        "    circuit.add_parametric_RZ_gate(i,angle)\n",
        "    circuit.add_parametric_RZ_gate((i+1)%n,angle)\n",
        "    circuit.add_H_gate(i+1)\n",
        "    circuit.add_CNOT_gate(i,i+1) #Needs to be rotX?\n",
        "    circuit.add_H_gate(i+1)\n",
        "    circuit.add_parametric_RX_gate(i,angle)\n",
        "  for i in range(n):\n",
        "    circuit.add_H_gate(i)\n",
        "\n",
        "  return circuit"
      ]
    },
    {
      "cell_type": "markdown",
      "metadata": {
        "id": "U_nP9Ocn6Rzq"
      },
      "source": [
        "## Ising Model Energy Spectrums"
      ]
    },
    {
      "cell_type": "code",
      "execution_count": null,
      "metadata": {
        "id": "bTFDMLpULZdg"
      },
      "outputs": [],
      "source": [
        "#Transverse field Ising Hamiltonian:\n",
        "\n",
        "def T_F_I(n,J,h,periodic_bc = False):\n",
        "  H = QubitOperator()\n",
        "  max_index = n if periodic_bc else n - 1\n",
        "  for i in range(max_index):\n",
        "      next_neighbour_index = 0 if i == n - 1 and periodic_bc else i + 1\n",
        "      H += QubitOperator(f\"Z{i} Z{next_neighbour_index}\", -J)\n",
        "  for i in range(n):\n",
        "    H += QubitOperator(f\"X{i}\", -h) #I must be removed\n",
        "    H += QubitOperator(f\"Z{i}\", 0.01)\n",
        "  return H"
      ]
    },
    {
      "cell_type": "code",
      "source": [
        "#Longatudinal field Ising Hamiltonian:\n",
        "\n",
        "def L_F_I(n,J,h,periodic_bc = False):\n",
        "  H = QubitOperator()\n",
        "  max_index = n if periodic_bc else n - 1\n",
        "  for i in range(max_index):\n",
        "      next_neighbour_index = 0 if i == n - 1 and periodic_bc else i + 1\n",
        "      H += QubitOperator(f\"Z{i} Z{next_neighbour_index}\", -J)\n",
        "  for i in range(n):\n",
        "    H += QubitOperator(f\"X{i}\", 0.01) #I must be removed\n",
        "    H += QubitOperator(f\"Z{i}\", -h)\n",
        "  return H"
      ],
      "metadata": {
        "id": "95gxGlKWfYd-"
      },
      "execution_count": null,
      "outputs": []
    },
    {
      "cell_type": "code",
      "execution_count": null,
      "metadata": {
        "id": "VtgE0sTGLaIy"
      },
      "outputs": [],
      "source": [
        "H_weak = T_F_I(8,1,0.1,periodic_bc = False)\n",
        "H_weak = qubit_operator_sparse(H_weak).todense()\n",
        "H_strong = T_F_I(8,1,1,periodic_bc = False)\n",
        "H_strong = qubit_operator_sparse(H_strong).todense()\n",
        "\n",
        "val_weak,vec_weak = LA.eig(H_weak)\n",
        "val_strong,vec_strong = LA.eig(H_strong)\n",
        "val_weak = np.sort(val_weak)\n",
        "val_strong = np.sort(val_strong)\n",
        "\n",
        "plt.plot(np.linspace(0,len(val_weak),len(val_weak)),val_weak)\n",
        "plt.plot(np.linspace(0,len(val_weak),len(val_weak)),val_strong)\n",
        "plt.legend(['Weak transverse field (h=0.1)','Strong transverse field (h=1)'])\n",
        "plt.title('Transverse Ising Spectrum')\n",
        "plt.xlabel('Eigen state number')\n",
        "plt.ylabel('Energy')"
      ]
    },
    {
      "cell_type": "code",
      "execution_count": null,
      "metadata": {
        "id": "SLoATiihB3Yr"
      },
      "outputs": [],
      "source": [
        "H_weak = L_F_I(8,-1,0.1,periodic_bc = False)\n",
        "H_weak = qubit_operator_sparse(H_weak).todense()\n",
        "H_strong = L_F_I(8,-1,1,periodic_bc = False)\n",
        "H_strong = qubit_operator_sparse(H_strong).todense()\n",
        "\n",
        "val_weak,vec_weak = LA.eig(H_weak)\n",
        "val_strong,vec_strong = LA.eig(H_strong)\n",
        "val_weak = np.sort(val_weak)\n",
        "val_strong = np.sort(val_strong)\n",
        "\n",
        "plt.plot(np.linspace(0,len(val_weak),len(val_weak)),val_weak)\n",
        "plt.plot(np.linspace(0,len(val_weak),len(val_weak)),val_strong)\n",
        "plt.legend(['Weak longitudinal field (h=0.1)','Strong transverse field (h=1)'])\n",
        "plt.title('Longitudinal Ising Spectrum')\n",
        "plt.xlabel('Eigen state number')\n",
        "plt.ylabel('Energy')"
      ]
    },
    {
      "cell_type": "markdown",
      "metadata": {
        "id": "LubvRNfL6O68"
      },
      "source": [
        "## Magnetisation "
      ]
    },
    {
      "cell_type": "code",
      "execution_count": null,
      "metadata": {
        "id": "Q8cRDpFU16Dg"
      },
      "outputs": [],
      "source": [
        "def magnetisation_expectation_X(n,H):\n",
        "  ## Find the ground state of the hamiltonian \n",
        "  E_vals,E_vecs = linalg.eigs(H) #sparse Hamiltonian\n",
        "  gs = E_vecs[:,np.argmin(E_vals)]\n",
        "\n",
        "  ge = np.amin(E_vals)\n",
        "\n",
        "  ## Define the magnetisation\n",
        "  M = QubitOperator()\n",
        "  for i in range(n):\n",
        "    M += QubitOperator(f\"X{i}\", 1) \n",
        "  M = 1/n * qubit_operator_sparse(M).todense().real\n",
        "\n",
        "  ## Compute the ground state magnetisation\n",
        "  #print(gs.shape,M.shape)\n",
        "  m_0 = np.conjugate(gs.T) @ M @ gs\n",
        "\n",
        "  return m_0,gs,ge\n",
        "\n",
        "def magnetisation_expectation_Y(n,H):\n",
        "  ## Find the ground state of the hamiltonian \n",
        "  E_vals,E_vecs = linalg.eigs(H) #sparse Hamiltonian\n",
        "  gs = E_vecs[:,np.argmin(E_vals)]\n",
        "\n",
        "  ge = np.amin(E_vals)\n",
        "\n",
        "  ## Define the magnetisation\n",
        "  M = QubitOperator()\n",
        "  for i in range(n):\n",
        "    M += QubitOperator(f\"Y{i}\", 1) \n",
        "  M = 1/n * qubit_operator_sparse(M).todense().real\n",
        "\n",
        "  ## Compute the ground state magnetisation\n",
        "  #print(gs.shape,M.shape)\n",
        "  m_0 = np.conjugate(gs.T) @ M @ gs\n",
        "\n",
        "  return m_0,gs,ge\n",
        "\n",
        "def magnetisation_expectation_Z(n,H):\n",
        "  ## Find the ground state of the hamiltonian \n",
        "  E_vals,E_vecs = linalg.eigs(H) #sparse Hamiltonian\n",
        "  gs = E_vecs[:,np.argmin(E_vals)]\n",
        "\n",
        "  ge = np.amin(E_vals)\n",
        "\n",
        "  ## Define the magnetisation\n",
        "  M = QubitOperator()\n",
        "  for i in range(n):\n",
        "    M += QubitOperator(f\"Z{i}\", 1) \n",
        "  M = 1/n * qubit_operator_sparse(M).todense().real\n",
        "\n",
        "  ## Compute the ground state magnetisation\n",
        "  #print(gs.shape,M.shape)\n",
        "  m_0 = np.conjugate(gs.T) @ M @ gs\n",
        "\n",
        "  return m_0,gs,ge"
      ]
    },
    {
      "cell_type": "code",
      "execution_count": null,
      "metadata": {
        "id": "lN71IRvh6LY4"
      },
      "outputs": [],
      "source": [
        "n = 4\n",
        "field_constants = np.linspace(-5,5,50)\n",
        "magnetisations = np.zeros(len(field_constants))\n",
        "for i in range(len(field_constants)):\n",
        "  H_dummy = qubit_operator_sparse(L_F_I(n,1,field_constants[i],periodic_bc = False)).todense().real\n",
        "  m,g,e = magnetisation_expectation_Z(n,H_dummy)\n",
        "  magnetisations[i] = m[0,0]"
      ]
    },
    {
      "cell_type": "code",
      "execution_count": null,
      "metadata": {
        "id": "mXfkYW1C6LWV"
      },
      "outputs": [],
      "source": [
        "plt.plot(field_constants,magnetisations)\n",
        "#plt.xscale('log')\n",
        "plt.legend(['Magnetisation'])\n",
        "plt.title('Magnetisations of various field strengths')\n",
        "plt.xlabel('Relative transverse field strength')\n",
        "plt.ylabel('Magnetisation')\n",
        "#plt.axvline(5)"
      ]
    },
    {
      "cell_type": "markdown",
      "source": [
        "## Classification Object"
      ],
      "metadata": {
        "id": "SU7_oFEFr3cj"
      }
    },
    {
      "cell_type": "code",
      "source": [
        "class MLP_2():\n",
        "\n",
        "  def __init__(self,n,U,Embed):\n",
        "    self.U = U(n)\n",
        "    self.E = Embed\n",
        "    self.theta = np.random.rand(self.U.get_parameter_count())\n",
        "    self.classes = 0\n",
        "    self.expectation_values = 0\n",
        "    #self.n = n #good practice!\n",
        "\n",
        "\n",
        "  #Determine optimal parameter vector theta\n",
        "  def train(self,X,y):\n",
        "    '''print(self.theta)'''\n",
        "\n",
        "    #Set initial theta to a a random set of numbers\n",
        "    theta_0 = self.theta\n",
        "\n",
        "    #Determine the number of classes\n",
        "    classes = np.unique(y)\n",
        "    self.classes = classes\n",
        "\n",
        "    #Compute the expectation values of a data point\n",
        "    def find_expectations(theta):  \n",
        "      Expectations = np.zeros(X.shape[0])\n",
        "      circuit = self.U\n",
        "\n",
        "      j = 0\n",
        "      for row in np.array(X):\n",
        "        for i in range(circuit.get_parameter_count()):\n",
        "          circuit.set_parameter(i,theta[i])\n",
        "        #Define and embed data point, x is an element of the normalised data set\n",
        "        point = row\n",
        "        #point = np.kron(np.array([1,0]),np.kron(np.array([1,0]),row))\n",
        "        state = self.E(point)\n",
        "        circuit.update_quantum_state(state)\n",
        "        # for k in range(n):\n",
        "          \n",
        "        #   obs = Observable(n)\n",
        "        #   obs.add_operator(1.,'Z {}'.format(k))\n",
        "        #   exp = obs.get_expectation_value(state)\n",
        "          #print(k,exp)\n",
        "        #obs = Observable(n + 2)\n",
        "        obs = Observable(n)\n",
        "        obs.add_operator(1.,'Z {}'.format(n-1))\n",
        "       # print(n)\n",
        "        exp = obs.get_expectation_value(state)\n",
        "        Expectations[j] = ((exp + 1)/2)*max(classes)\n",
        "        j += 1\n",
        "        \n",
        "      return Expectations\n",
        "\n",
        "    def MSE(theta):\n",
        "      #get predictions\n",
        "\n",
        "      Expectations = find_expectations(theta)\n",
        "      #Simple MSE example\n",
        "      \n",
        "      #Expectation values\n",
        "      L = ((Expectations - y)**2).mean()\n",
        "      #L =  -((y*np.log(Expectations) + (1 - y)*np.log(1-Expectations))).mean()\n",
        "      print('The loss is ', L)\n",
        "      #print('The expectation is ', Expectations)\n",
        "      return L\n",
        "\n",
        "    result = minimize(MSE, theta_0, method='COBYLA')\n",
        "    self.theta = result.x\n",
        "    '''print(theta_0, self.theta)'''\n",
        "    return self.theta\n",
        "\n",
        "  def predict(self,X):\n",
        "    classes = self.classes\n",
        "    #Compute the expectation values of a data point\n",
        "    \n",
        "    def find_expectations(theta):  \n",
        "      Expectations = np.zeros(X.shape[0])\n",
        "      circuit = self.U\n",
        "\n",
        "      j = 0\n",
        "      for row in np.array(X):\n",
        "        for i in range(circuit.get_parameter_count()):\n",
        "          circuit.set_parameter(i,theta[i])\n",
        "        #Define and embed data point, x is an element of the normalised data set\n",
        "        point = row\n",
        "        #point = np.kron(np.array([1,0]),np.kron(np.array([1,0]),row))\n",
        "        state = self.E(point)\n",
        "        circuit.update_quantum_state(state)\n",
        "        # for k in range(n):\n",
        "          \n",
        "        #   obs = Observable(n)\n",
        "        #   obs.add_operator(1.,'Z {}'.format(k))\n",
        "        #   exp = obs.get_expectation_value(state)\n",
        "          #print(k,exp)\n",
        "        #obs = Observable(n + 2)\n",
        "        obs = Observable(n)\n",
        "        obs.add_operator(1.,'Z {}'.format(n-1))\n",
        "       # print(n)\n",
        "        exp = obs.get_expectation_value(state)\n",
        "        Expectations[j] = ((exp + 1)/2)*max(classes)\n",
        "        j += 1\n",
        "        \n",
        "      return Expectations\n",
        "    \n",
        "    expectations = find_expectations(self.theta)\n",
        "    self.expectation_values = expectations\n",
        "    '''print(self.expectation_values)'''\n",
        "    return expectations\n",
        "\n",
        "  #Create probabilities for LIME using any classifier that has a method of the \n",
        "  #form clssifier.predict() which takes a single point a its argument\n",
        "\n",
        "  ###Assign probabilities\n",
        "  def create_probabilities(self,input_X):\n",
        "\n",
        "    if input_X.ndim == 1:\n",
        "      input_X = np.reshape(input_X,(1,input_X.shape[0]))\n",
        "    \n",
        "    expectation_values = self.predict(input_X)\n",
        "  \n",
        "    probabilities = np.zeros((input_X.shape[0],2))\n",
        "\n",
        "    for i in range(input_X.shape[0]):\n",
        "      e = expectation_values[i]\n",
        "      p_0 = 1-e\n",
        "      p_1 = e\n",
        "      probabilities[i,:] = np.array([p_0, p_1])\n",
        "      probabilities[i,:] = probabilities[i,:]/(probabilities[i,:].sum())\n",
        "      \n",
        "    return probabilities\n",
        "\n",
        "  def create_probabilities_Ising_field(self,input_X):\n",
        "\n",
        "    if input_X.ndim == 1:\n",
        "      input_X = np.reshape(input_X,(1,input_X.shape[0]))  \n",
        "\n",
        "    # print('The input field strengths are: ',input_X)\n",
        "    probabilities = np.zeros((input_X.shape[0],2))\n",
        "\n",
        "    for i in range(input_X.shape[0]):\n",
        "      E_vals,E_vecs = linalg.eigs(qubit_operator_sparse(T_F_I(n,J =input_X[i,0],h = input_X[i,1]))) #sparse Hamiltonian\n",
        "      gs = E_vecs[:,np.argmin(E_vals)]\n",
        "      # print(gs,gs.shape)\n",
        "      ge = np.amin(E_vals)\n",
        "      e = self.predict(np.array([gs]))\n",
        "      # print('the expectation value is: ', e)\n",
        "      p_0 = 1-e\n",
        "      p_1 = e\n",
        "      probabilities[i,:] = np.reshape(np.array([p_0, p_1]),probabilities[i,:].shape)\n",
        "      probabilities[i,:] = probabilities[i,:]/(probabilities[i,:].sum())           \n",
        "      \n",
        "    return probabilities\n"
      ],
      "metadata": {
        "id": "IfG1RcQYryiI"
      },
      "execution_count": null,
      "outputs": []
    },
    {
      "cell_type": "markdown",
      "source": [
        "#### testing\n"
      ],
      "metadata": {
        "id": "iS0HBr1HnZTF"
      }
    },
    {
      "cell_type": "code",
      "source": [
        "# X_train_1, X_test_1, y_train_1, y_test_1 = train_test_split(ising_data.iloc[:,0:2**n], ising_data.iloc[:,2**n:2**n+3], test_size=0.7)\n",
        "\n",
        "# classifier_1 = MLP_2(n,U_conv_6,pointwise_identity_embedding)\n",
        "# classifier_1.train(X_train_1,y_train_1.iloc[:,1])\n",
        "# expectations_1 = classifier_1.predict(X_test_1.iloc[:,0:2**n])\n",
        "\n",
        "# def classify_bi(exp):\n",
        "#   if exp >= 0.5:\n",
        "#     pred = 1\n",
        "#   else:\n",
        "#     pred = 0\n",
        "#   return pred\n",
        "\n",
        "#  #Check the accuracy of the predictions \n",
        "# correct_1 = 0\n",
        "\n",
        "# q_predictions_1 = np.zeros(len(X_test_1.iloc[:,0]))\n",
        "# for i in range(len(q_predictions_1)):\n",
        "#   q_predictions_1[i] = classify_bi(expectations_1[i])\n",
        "#   #print(q_predictions[i])\n",
        "#   if q_predictions_1[i] == y_test_1.iloc[i,1]:\n",
        "#     correct_1 += 1\n",
        "\n",
        "# accuracy_1 = (correct_1/len(q_predictions_1))*100\n",
        "\n",
        "# print('The binary classification for the Ising Model data set is ', accuracy_1 ,'% accurate ')\n",
        "\n",
        "# y_test_1.insert(3,'expectation values',expectations_1)\n",
        "# y_test_1.insert(4,'predicted classes',q_predictions_1)\n",
        "\n",
        "# y_test_1.sort_values('True Magnetisations')"
      ],
      "metadata": {
        "id": "GM42YnTona2U"
      },
      "execution_count": null,
      "outputs": []
    },
    {
      "cell_type": "code",
      "source": [
        "# classifier = classifier_1\n",
        "# classifier.create_probabilities_Ising_field(np.array(field_features.iloc[0:5,:]))"
      ],
      "metadata": {
        "id": "zAEdFeyAstjM"
      },
      "execution_count": null,
      "outputs": []
    },
    {
      "cell_type": "code",
      "source": [
        "# classifier_1.predict(np.array([X_test_1.iloc[0,0:2**n]]))"
      ],
      "metadata": {
        "id": "afQ-G8iDpouL"
      },
      "execution_count": null,
      "outputs": []
    },
    {
      "cell_type": "code",
      "source": [
        "# y_test_1.iloc[0:5,0:2**n]"
      ],
      "metadata": {
        "id": "xv1VZgF_q-17"
      },
      "execution_count": null,
      "outputs": []
    },
    {
      "cell_type": "code",
      "source": [
        "# a = np.array([[0,1],[0,2],[0,3]])\n",
        "# for i in a:\n",
        "#   print(i)"
      ],
      "metadata": {
        "id": "axTQ51alsFSS"
      },
      "execution_count": null,
      "outputs": []
    },
    {
      "cell_type": "code",
      "source": [
        "# a.shape"
      ],
      "metadata": {
        "id": "gZNgFhRPsCY8"
      },
      "execution_count": null,
      "outputs": []
    },
    {
      "cell_type": "code",
      "source": [
        "# b = np.array([[0,1]])\n",
        "# for i in b:\n",
        "#   print(i)"
      ],
      "metadata": {
        "id": "O3hoAvzwsJhG"
      },
      "execution_count": null,
      "outputs": []
    },
    {
      "cell_type": "markdown",
      "source": [
        "## Quantum Circuits\n"
      ],
      "metadata": {
        "id": "NccEm2T-sA0r"
      }
    },
    {
      "cell_type": "code",
      "source": [
        "a = np.array([[0,1],[0,2],[0,3]])\n",
        "for i in a:\n",
        "  print(i)"
      ],
      "metadata": {
        "id": "m_vNTtFNlwn2"
      },
      "execution_count": null,
      "outputs": []
    },
    {
      "cell_type": "code",
      "source": [
        "def U_conv_6(d):\n",
        "  a = 0 #2 ancila qubits\n",
        "  n = d + a\n",
        "\n",
        "  #Metadata\n",
        "  angle = 0\n",
        "  # construct parametric quantum circuit with random rotation\n",
        "  circuit = ParametricQuantumCircuit(n)\n",
        "\n",
        "  # for i in range(n):\n",
        "  #   circuit.add_H_gate(i)\n",
        "\n",
        "  for i in range(math.ceil(d/2)+1):\n",
        "    print('Pass {}'.format(i))\n",
        "    for j in range(i,d-i):\n",
        "      print(j)\n",
        "      circuit.add_parametric_RY_gate(j,angle)\n",
        "      print('Ry on {}'.format(j))\n",
        "      if j % 2 == 0:\n",
        "        circuit.add_CNOT_gate(j,j+1 % d)\n",
        "        print('CN on {},{}'.format(j,j+1))\n",
        "      # circuit.add_parametric_RZ_gate(j,angle)\n",
        "      # print('Rz on {}'.format(j))\n",
        "\n",
        "  f = int(np.round(d/2))\n",
        "  print('final gate {}'.format(f))\n",
        "  circuit.add_parametric_RX_gate(f,angle)\n",
        "  print('Rx on {}'.format(f))\n",
        "\n",
        "  #Hadamard gate for the ancila qubits\n",
        "  for i in range(a):\n",
        "    circuit.add_H_gate(d+i)\n",
        "    print('had gate on {}'.format(d+i))\n",
        "  \n",
        "  # #Entangle ancila qubits\n",
        "  # circuit.add_CNOT_gate(f+1,d)\n",
        "  # print('CN on {} {}'.format(f+1,d))\n",
        "  # circuit.add_CNOT_gate(f,d+1)\n",
        "  # print('CN on {} {}'.format(f,d+1))\n",
        "  \n",
        "\n",
        "\n",
        "  # for i in range(a):\n",
        "  #   circuit.add_parametric_RX_gate(d + i,angle)\n",
        "  #   circuit.add_parametric_RY_gate(d + i,angle)\n",
        "  #   circuit.add_parametric_RZ_gate(d + i,angle)\n",
        "    \n",
        "  #circuit.add_CNOT_gate(d,d+1)\n",
        "\n",
        "  #Measure nth gate\n",
        "  return circuit"
      ],
      "metadata": {
        "id": "Qje9hIA2NgR_"
      },
      "execution_count": null,
      "outputs": []
    },
    {
      "cell_type": "code",
      "source": [
        "circuit = U_conv_6(8)"
      ],
      "metadata": {
        "id": "tB2tEVubOX5Y"
      },
      "execution_count": null,
      "outputs": []
    },
    {
      "cell_type": "code",
      "source": [
        "#Simple n qubit amplitude embedding \n",
        "def pointwise_identity_embedding(point):\n",
        "  n = len(point)\n",
        "  state = QuantumState(int(np.log2(n)))\n",
        "  point = point / np.linalg.norm(point)\n",
        "  state.load(point)\n",
        "\n",
        "  return state\n",
        "\n",
        "#Qubit embedding\n",
        "def pointwise_qubit_embedding(point):\n",
        "  n = len(point)\n",
        "  state = QuantumState(n)\n",
        "  state.set_zero_state()\n",
        "  for i in range(n):\n",
        "    ry_gate = RY(i, point[i])\n",
        "    ry_gate.update_quantum_state(state)\n",
        "\n",
        "  return state\n",
        "\n",
        "#Discrimination circuit\n",
        "def U_conv_6(d):\n",
        "  a = 2 #2 ancila qubits\n",
        "  n = d + a\n",
        "\n",
        "  #Metadata\n",
        "  angle = 0\n",
        "  # construct parametric quantum circuit with random rotation\n",
        "  circuit = ParametricQuantumCircuit(n)\n",
        "\n",
        "  # for i in range(n):\n",
        "  #   circuit.add_H_gate(i)\n",
        "\n",
        "  for i in range(math.ceil(d/2)+1):\n",
        "    print('Pass {}'.format(i))\n",
        "    for j in range(i,d-i):\n",
        "      print(j)\n",
        "      circuit.add_parametric_RY_gate(j,angle)\n",
        "      if j % 2 == 0:\n",
        "        circuit.add_CNOT_gate(j,j+1 % d)\n",
        "      circuit.add_parametric_RZ_gate(j,angle)\n",
        "\n",
        "  f = int(np.round(d/2))\n",
        "  print('final gate {}'.format(f))\n",
        "  circuit.add_parametric_RX_gate(f,angle)\n",
        "\n",
        "  # #Hadamard gate for the ancila qubits\n",
        "  # for i in range(a):\n",
        "  #   circuit.add_H_gate(d+i)\n",
        "  \n",
        "  #Entangle ancila qubits\n",
        "  circuit.add_CNOT_gate(f+1,d)\n",
        "  circuit.add_CNOT_gate(f,d+1)\n",
        "\n",
        "\n",
        "  for i in range(a):\n",
        "    circuit.add_parametric_RX_gate(d + i,angle)\n",
        "    circuit.add_parametric_RY_gate(d + i,angle)\n",
        "    circuit.add_parametric_RZ_gate(d + i,angle)\n",
        "\n",
        "  circuit.add_CNOT_gate(d,d+1)\n",
        "\n",
        "  #Measure nth gate\n",
        "  return circuit\n",
        "\n",
        "#Discrimination circuit\n",
        "def U_conv_6_double(n):\n",
        "  #Metadata\n",
        "  angle = 0\n",
        "  # construct parametric quantum circuit with random rotation\n",
        "  circuit = ParametricQuantumCircuit(n)\n",
        "    \n",
        "  for i in range(math.ceil(n/2)+1):\n",
        "    print('Pass {}'.format(i))\n",
        "    for j in range(i,n-i):\n",
        "      print(j)\n",
        "      circuit.add_parametric_RY_gate(j,angle)\n",
        "    if j % 2 == 0:\n",
        "      circuit.add_CNOT_gate(j,j+1 % n)\n",
        "\n",
        "  for i in range(math.ceil(n/2)+1):\n",
        "    print('Pass {}'.format(i+math.ceil(n/2)+1))\n",
        "    for j in range(i,n-i):\n",
        "      print(j+math.ceil(n/2)+1)\n",
        "      circuit.add_parametric_RY_gate(j,angle)\n",
        "    if j % 2 == 0:\n",
        "      circuit.add_CNOT_gate(j,j+1 % n)\n",
        "\n",
        "  f = int(np.round(n/2))\n",
        "  print('final gate {}'.format(f))\n",
        "  circuit.add_parametric_RY_gate(f,angle)\n",
        "\n",
        "  return circuit\n",
        "\n",
        "def interleave_anzats(n):\n",
        "\n",
        "  #Metadata\n",
        "  angle = 0\n",
        "  # construct parametric quantum circuit with random rotation\n",
        "  circuit = ParametricQuantumCircuit(n+1)\n",
        "\n",
        "  # target_layer_1 = np.array([0,1,2,3], dtype = 'int')\n",
        "  \n",
        "  circuit.add_H_gate(n)\n",
        "    \n",
        "  for i in range(math.ceil(n/2)+1):\n",
        "    print('Pass {}'.format(i))\n",
        "    for j in range(i,n-i):\n",
        "      print(j)\n",
        "      circuit.add_parametric_RY_gate(j,angle)\n",
        "    if j % 2 == 0:\n",
        "      circuit.add_CNOT_gate(j,j+1 % n)\n",
        "\n",
        "  for i in range(math.ceil(n/2)+1):\n",
        "    print('Pass {}'.format(i))\n",
        "    for j in range(i,n-i):\n",
        "      print(j)\n",
        "      circuit.add_parametric_RY_gate(j,angle)\n",
        "    if j % 2 == 1:\n",
        "      circuit.add_CNOT_gate(j,j+1 % n)\n",
        "\n",
        "  \n",
        "  circuit.add_CNOT_gate(n,n+1)\n",
        " \n",
        "\n",
        "  return circuit"
      ],
      "metadata": {
        "id": "pxH60G7KsC2g"
      },
      "execution_count": null,
      "outputs": []
    },
    {
      "cell_type": "markdown",
      "metadata": {
        "id": "6VSRd6etMG7G"
      },
      "source": [
        "## Ising Model Classification\n",
        "\n",
        "The goal now is to create a large dataset of Ising ground states and to classifiy them depending on their magnetisation properties. \n",
        "\n",
        "The key detail is the relative strength of the magnet field w.r.t the site to site interactions. Since we are interested in the symmetry breaking properties a constant field in the x axis with a low strength will be considered. The strength of the field sets the sclae at which we see the interactions occuring. "
      ]
    },
    {
      "cell_type": "markdown",
      "metadata": {
        "id": "zPX3TWJMNYnC"
      },
      "source": [
        "### Create data"
      ]
    },
    {
      "cell_type": "code",
      "execution_count": null,
      "metadata": {
        "id": "2a1LnWintr2I"
      },
      "outputs": [],
      "source": [
        "def _get_data(n,datapoints,epsilon):\n",
        "  Js = np.linspace(-10,10,datapoints)\n",
        "  hs = np.linspace(0,10,datapoints)\n",
        "  field_constants = np.array(list(it.product(Js,hs)))\n",
        "\n",
        "  magnetisations = np.zeros(field_constants.shape[0])\n",
        "  Ground_states = np.zeros((field_constants.shape[0],2**n),dtype = complex)  \n",
        "  for i in range(len(field_constants)):\n",
        "    H_dummy = qubit_operator_sparse(L_F_I(n,field_constants[i,0],field_constants[i,1],periodic_bc = True))\n",
        "    \n",
        "    m,g,ge = magnetisation_expectation_Z(n,H_dummy)\n",
        "    magnetisations[i] = m[0,0]\n",
        "    g = g.reshape(2**n)\n",
        "\n",
        "    Ground_states[i,:] = g \n",
        "  magnetisations = magnetisations.reshape(datapoints**2)\n",
        "  relative_field_constants = field_constants\n",
        "  \n",
        "  c = np.matrix(np.random.rand(2**n,2**n)+ 1j*np.random.rand(2**n,2**n))\n",
        "  d = np.conjugate(c.T)\n",
        "  h = c + d\n",
        "  h = epsilon*h\n",
        "  U = scipy.linalg.expm(1j*h)\n",
        "  for i in range(Ground_states.shape[0]):\n",
        "    Ground_states[i,:] = U @ Ground_states[i,:]\n",
        "  return  np.abs(magnetisations),Ground_states,relative_field_constants\n",
        " "
      ]
    },
    {
      "cell_type": "markdown",
      "source": [
        "### Test train split"
      ],
      "metadata": {
        "id": "1izHxpzWgcPy"
      }
    },
    {
      "cell_type": "code",
      "source": [
        "import tensorflow as tf\n",
        "from keras.callbacks import History "
      ],
      "metadata": {
        "id": "Yx5WIJn_q6zZ"
      },
      "execution_count": null,
      "outputs": []
    },
    {
      "cell_type": "code",
      "source": [
        "n = 12\n",
        "datapoints = 60\n",
        "Magnetisations_12 , groundstates_12 , field_constants_12 = _get_data(n,datapoints,0)\n",
        "\n",
        "\n",
        "#Test, train set preparation\n",
        "ising_data_12 = pd.DataFrame(groundstates_12)\n",
        "ising_data_12 = pd.DataFrame(ising_data_12.iloc[:,:])\n",
        "labels_12 = np.zeros(len(Magnetisations_12))\n",
        "\n",
        "for i in range(len(Magnetisations_12)):\n",
        "  if Magnetisations_12[i] <= 0.5:\n",
        "    labels_12[i] = 0\n",
        "  else:\n",
        "    labels_12[i] = 1\n",
        "\n",
        "ising_data_12.insert(2**n,'Js', field_constants_12[:,0])\n",
        "ising_data_12.insert(2**n,'hs', field_constants_12[:,1])\n",
        "ising_data_12.insert(2**n,'labels',labels_12)\n",
        "ising_data_12.insert(2**n,'True Magnetisations', Magnetisations_12)\n",
        "\n",
        "ising_data_12.to_csv('/content/drive/MyDrive/Data/ising_data_12.csv')\n",
        "\n",
        "X_train_4, X_test_4, y_train_4, y_test_4 = train_test_split(ising_data.iloc[:,0:2**n], ising_data.iloc[:,2**n:2**n+4], test_size=0.7)"
      ],
      "metadata": {
        "id": "1kHPP7oaqc5b"
      },
      "execution_count": null,
      "outputs": []
    },
    {
      "cell_type": "code",
      "source": [
        "ising_data_12 = pd.read_csv('/content/drive/MyDrive/Data/ising_data_12.csv')"
      ],
      "metadata": {
        "id": "SUsYRNPV4kKG"
      },
      "execution_count": null,
      "outputs": []
    },
    {
      "cell_type": "code",
      "source": [
        "n = 8\n",
        "datapoints = 30\n",
        "Magnetisations_8 , groundstates_8 , field_constants_8 = _get_data(n,datapoints,0)\n",
        "\n",
        "\n",
        "#Test, train set preparation\n",
        "ising_data_8 = pd.DataFrame(groundstates_8)\n",
        "ising_data_8 = pd.DataFrame(ising_data_8.iloc[:,:])\n",
        "labels_8 = np.zeros(len(Magnetisations_8))\n",
        "\n",
        "for i in range(len(Magnetisations_8)):\n",
        "  if Magnetisations_8[i] <= 0.5:\n",
        "    labels_8[i] = 0\n",
        "  else:\n",
        "    labels_8[i] = 1\n",
        "\n",
        "ising_data_8.insert(2**n,'Js', field_constants_8[:,0])\n",
        "ising_data_8.insert(2**n,'hs', field_constants_8[:,1])\n",
        "ising_data_8.insert(2**n,'labels',labels_8)\n",
        "ising_data_8.insert(2**n,'True Magnetisations', Magnetisations_8)\n",
        "\n",
        "ising_data_8.to_csv('/content/drive/MyDrive/Data/ising_data_8.csv')"
      ],
      "metadata": {
        "id": "QmovoEELx_Rv"
      },
      "execution_count": null,
      "outputs": []
    },
    {
      "cell_type": "code",
      "source": [
        "n=8\n",
        "ising_data_8 = pd.read_csv('/content/drive/MyDrive/Data/ising_data_8.csv').iloc[:,1:]\n",
        "ising_data_8.iloc[:,:2**n] = np.array(ising_data_8.iloc[:,:2**n],dtype = complex)"
      ],
      "metadata": {
        "id": "TNbkWjG84qIE"
      },
      "execution_count": null,
      "outputs": []
    },
    {
      "cell_type": "code",
      "source": [
        "ising_data_8"
      ],
      "metadata": {
        "id": "J3SKXbaz42Qp"
      },
      "execution_count": null,
      "outputs": []
    },
    {
      "cell_type": "markdown",
      "source": [],
      "metadata": {
        "id": "SW9xXvigAGHT"
      }
    },
    {
      "cell_type": "code",
      "source": [
        "n = 6\n",
        "datapoints = 60\n",
        "Magnetisations_6 , groundstates_6 , field_constants_6 = _get_data(n,datapoints,0)\n",
        "\n",
        "\n",
        "#Test, train set preparation\n",
        "ising_data_6 = pd.DataFrame(groundstates_6)\n",
        "ising_data_6 = pd.DataFrame(ising_data_6.iloc[:,:])\n",
        "labels_6 = np.zeros(len(Magnetisations_6))\n",
        "\n",
        "for i in range(len(Magnetisations_6)):\n",
        "  if Magnetisations_6[i] <= 0.5:\n",
        "    labels_6[i] = 0\n",
        "  else:\n",
        "    labels_6[i] = 1\n",
        "\n",
        "ising_data_6.insert(2**n,'Js', field_constants_6[:,0])\n",
        "ising_data_6.insert(2**n,'hs', field_constants_6[:,1])\n",
        "ising_data_6.insert(2**n,'labels',labels_6)\n",
        "ising_data_6.insert(2**n,'True Magnetisations', Magnetisations_6)\n",
        "\n",
        "ising_data_6.to_csv('/content/drive/MyDrive/Data/ising_data_6.csv')"
      ],
      "metadata": {
        "id": "fIDnDjbwyHd9"
      },
      "execution_count": null,
      "outputs": []
    },
    {
      "cell_type": "code",
      "source": [
        "n = 6\n",
        "ising_data_6 = pd.read_csv('/content/drive/MyDrive/Data/ising_data_6.csv').iloc[:,1:]\n",
        "ising_data_6.iloc[:,:2**n] = np.array(ising_data_6.iloc[:,:2**n],dtype = complex)"
      ],
      "metadata": {
        "id": "q7UII8zx4rVY"
      },
      "execution_count": null,
      "outputs": []
    },
    {
      "cell_type": "code",
      "source": [
        "n = 4\n",
        "datapoints = 100\n",
        "Magnetisations_4 , groundstates_4 , field_constants_4 = _get_data(n,datapoints,0)\n",
        "\n",
        "#Test, train set preparation\n",
        "ising_data_4 = pd.DataFrame(groundstates_4)\n",
        "ising_data_4 = pd.DataFrame(ising_data_4.iloc[:,:])\n",
        "labels_4 = np.zeros(len(Magnetisations_4))\n",
        "\n",
        "for i in range(len(Magnetisations_4)):\n",
        "  if Magnetisations_4[i] <= 0.5:\n",
        "    labels_4[i] = 0\n",
        "  else:\n",
        "    labels_4[i] = 1\n",
        "\n",
        "ising_data_4.insert(2**n,'Js', field_constants_4[:,0])\n",
        "ising_data_4.insert(2**n,'hs', field_constants_4[:,1])\n",
        "ising_data_4.insert(2**n,'labels',labels_4)\n",
        "ising_data_4.insert(2**n,'True Magnetisations', Magnetisations_4)\n",
        "\n",
        "ising_data_4.to_csv('/content/drive/MyDrive/Data/ising_data_4.csv')"
      ],
      "metadata": {
        "id": "Zdr6Re92yO2m"
      },
      "execution_count": null,
      "outputs": []
    },
    {
      "cell_type": "code",
      "source": [
        "n=4\n",
        "ising_data_4 = pd.read_csv('/content/drive/MyDrive/Data/ising_data_4.csv').iloc[:,1:]\n",
        "ising_data_4.iloc[:,:2**n] = np.array(ising_data_4.iloc[:,:2**n],dtype = complex)"
      ],
      "metadata": {
        "id": "sEqGSdXR4tKd"
      },
      "execution_count": null,
      "outputs": []
    },
    {
      "cell_type": "code",
      "source": [
        "n = 8\n",
        "X_train_1, X_test_1, y_train_1, y_test_1 = train_test_split(ising_data_8.iloc[:,0:2**n], ising_data_8.iloc[:,2**n:2**n+4], test_size=0.7)\n",
        "# n = 6\n",
        "# X_train_2, X_test_2, y_train_2, y_test_2 = train_test_split(ising_data_6.iloc[:,0:2**n], ising_data_6.iloc[:,2**n:2**n+4], test_size=0.7)\n",
        "# n = 4\n",
        "# X_train_3, X_test_3, y_train_3, y_test_3 = train_test_split(ising_data_4.iloc[:,0:2**n], ising_data_4.iloc[:,2**n:2**n+4], test_size=0.7)\n"
      ],
      "metadata": {
        "id": "MWNsZJNUMvG2"
      },
      "execution_count": null,
      "outputs": []
    },
    {
      "cell_type": "code",
      "source": [
        "ising_data_8"
      ],
      "metadata": {
        "id": "8CH8Z9V7xdi-"
      },
      "execution_count": null,
      "outputs": []
    },
    {
      "cell_type": "markdown",
      "source": [
        "### Classification with tensorflow"
      ],
      "metadata": {
        "id": "rbQg9_nvoACU"
      }
    },
    {
      "cell_type": "code",
      "source": [
        "n = 8"
      ],
      "metadata": {
        "id": "4Q19TJHwHIVD"
      },
      "execution_count": null,
      "outputs": []
    },
    {
      "cell_type": "code",
      "source": [
        "model = tf.keras.Sequential([\n",
        "    tf.keras.layers.Dense((2^n), activation='relu'),\n",
        "    tf.keras.layers.Dense(20, activation='relu'),\n",
        "    tf.keras.layers.Dense(2, activation='sigmoid')\n",
        "])\n",
        "\n",
        "model.compile(optimizer='adam',\n",
        "              loss=tf.keras.losses.SparseCategoricalCrossentropy(from_logits=True),\n",
        "              metrics=['accuracy'])"
      ],
      "metadata": {
        "id": "D6ODgTycgfqX"
      },
      "execution_count": null,
      "outputs": []
    },
    {
      "cell_type": "code",
      "source": [
        "model_1.summary()"
      ],
      "metadata": {
        "id": "2EJDkGHqHKiJ"
      },
      "execution_count": null,
      "outputs": []
    },
    {
      "cell_type": "code",
      "source": [
        "model_1 = model\n",
        "model_2 = model\n",
        "model_3 = model\n",
        "model_4 = model"
      ],
      "metadata": {
        "id": "DhNH_tB-NwLg"
      },
      "execution_count": null,
      "outputs": []
    },
    {
      "cell_type": "code",
      "source": [
        "model_1.fit(X_train_1,y_train_1.iloc[:,1], epochs=100)"
      ],
      "metadata": {
        "id": "zmnmzabTgfno"
      },
      "execution_count": null,
      "outputs": []
    },
    {
      "cell_type": "code",
      "source": [
        "model_2.fit(X_train_2,y_train_2.iloc[:,1], epochs=100)"
      ],
      "metadata": {
        "id": "g68PMfjbgfk3"
      },
      "execution_count": null,
      "outputs": []
    },
    {
      "cell_type": "code",
      "source": [
        "model_3.fit(X_train_3,y_train_3.iloc[:,1], epochs=100)"
      ],
      "metadata": {
        "id": "odDSORk2gfie"
      },
      "execution_count": null,
      "outputs": []
    },
    {
      "cell_type": "code",
      "source": [
        "model_4.fit(X_train_4,y_train_4.iloc[:,1], epochs=100)"
      ],
      "metadata": {
        "id": "v0RHwJbpgffl"
      },
      "execution_count": null,
      "outputs": []
    },
    {
      "cell_type": "code",
      "source": [
        "def find_nn_predictions(model,dataset):\n",
        "  dummy = model.predict(dataset)\n",
        "  model_predictions = np.zeros(model.predict(dataset).shape[0])\n",
        "  for i in range(model_predictions.shape[0]):\n",
        "    if dummy[i,0] > dummy[i,1]:\n",
        "      model_predictions[i] = 0\n",
        "    else:\n",
        "      model_predictions[i] = 1\n",
        "  return model_predictions\n",
        "\n",
        "def get_accuracy(predicted_values,true_values):\n",
        "  correct = 0\n",
        "  for i in range(predicted_values.shape[0]):\n",
        "    if predicted_values[i] == true_values[i]:\n",
        "      correct +=1\n",
        "  accuracy = (correct/len(predicted_values)) * 100\n",
        "  return accuracy\n",
        "\n",
        "\n",
        "\n",
        "predictions_1 = find_nn_predictions(model_1,X_test_1)\n",
        "predictions_2 = find_nn_predictions(model_2,X_test_2)\n",
        "predictions_3 = find_nn_predictions(model_3,X_test_3)\n",
        "predictions_4 = find_nn_predictions(model_4,X_test_4)\n",
        "  \n",
        "get_accuracy(predictions_1,np.array(y_test_1.iloc[:,1]))"
      ],
      "metadata": {
        "id": "DPLseZU3jur4"
      },
      "execution_count": null,
      "outputs": []
    },
    {
      "cell_type": "code",
      "source": [
        "get_accuracy(predictions_2,np.array(y_test_2.iloc[:,1]))"
      ],
      "metadata": {
        "id": "4wi7J0_b9S3D"
      },
      "execution_count": null,
      "outputs": []
    },
    {
      "cell_type": "code",
      "source": [
        "get_accuracy(predictions_3,np.array(y_test_3.iloc[:,1]))"
      ],
      "metadata": {
        "id": "yWh7vgZF9Suc"
      },
      "execution_count": null,
      "outputs": []
    },
    {
      "cell_type": "code",
      "source": [
        "get_accuracy(predictions_4,np.array(y_test_4.iloc[:,1]))"
      ],
      "metadata": {
        "id": "x2Bw0soB9SjN"
      },
      "execution_count": null,
      "outputs": []
    },
    {
      "cell_type": "markdown",
      "metadata": {
        "id": "CYo3DVp2Ng2f"
      },
      "source": [
        "### Quantum Classifcations and comparison with longitudinal field"
      ]
    },
    {
      "cell_type": "markdown",
      "source": [
        "#### 12 qubits\n"
      ],
      "metadata": {
        "id": "oFWpadPt8cnG"
      }
    },
    {
      "cell_type": "code",
      "source": [
        "from matplotlib import cm\n",
        "from matplotlib.ticker import LinearLocator, FormatStrFormatter\n",
        "from mpl_toolkits.mplot3d import Axes3D\n",
        "\n",
        "fig = plt.figure(figsize=(12, 9))\n",
        "ax = Axes3D(fig)\n",
        "y = ising_data_12['Js']\n",
        "x = ising_data_12['hs']\n",
        "z = ising_data_12['True Magnetisations']\n",
        "\n",
        "ax.plot_trisurf(x,y,z,  cmap=cm.jet, linewidth=0.2)\n",
        "plt.title('Ising spin chain magnetisation')\n",
        "ax.set_ylabel('Js')\n",
        "ax.set_xlabel('hs')\n",
        "ax.set_zlabel('Magnetisations')\n",
        "plt.legend()"
      ],
      "metadata": {
        "id": "r3EBBzpy8fUb"
      },
      "execution_count": null,
      "outputs": []
    },
    {
      "cell_type": "code",
      "source": [
        "n = 12\n",
        "classifier_4 = MLP_2(n,U_conv_6,pointwise_identity_embedding)\n",
        "classifier_4.train(X_train_4,y_train_1.iloc[:,1])\n",
        "expectations_4 = classifier_1.predict(X_test_4.iloc[:,0:2**n])\n",
        "\n",
        "def classify_bi(exp):\n",
        "  if exp >= 0.5:\n",
        "    pred = 1\n",
        "  else:\n",
        "    pred = 0\n",
        "  return pred\n",
        "\n",
        " #Check the accuracy of the predictions \n",
        "correct_4 = 0\n",
        "\n",
        "q_predictions_4 = np.zeros(len(X_test_4.iloc[:,0]))\n",
        "for i in range(len(q_predictions_4)):\n",
        "  q_predictions_4[i] = classify_bi(expectations_4[i])\n",
        "  #print(q_predictions[i])\n",
        "  if q_predictions_4[i] == y_test_4.iloc[i,1]:\n",
        "    correct_4 += 1\n",
        "\n",
        "accuracy_4 = (correct_4/len(q_predictions_4))*100\n",
        "\n",
        "print('The binary classification for the Ising Model data set is ', accuracy_4 ,'% accurate ')\n",
        "\n",
        "y_test_4.insert(3,'expectation values',expectations_4)\n",
        "y_test_4.insert(4,'predicted classes',q_predictions_4)\n",
        "\n",
        "y_test_4.sort_values('True Magnetisations')"
      ],
      "metadata": {
        "id": "69TapERR8fLu"
      },
      "execution_count": null,
      "outputs": []
    },
    {
      "cell_type": "markdown",
      "source": [
        "#### 8 qubits"
      ],
      "metadata": {
        "id": "XV2pAMrExpQj"
      }
    },
    {
      "cell_type": "code",
      "source": [
        "z = ising_data_8['True Magnetisations']"
      ],
      "metadata": {
        "id": "uCPPVzgXfKvZ"
      },
      "execution_count": null,
      "outputs": []
    },
    {
      "cell_type": "code",
      "source": [
        "ising_data_8"
      ],
      "metadata": {
        "id": "T9C6v7GGfMeK"
      },
      "execution_count": null,
      "outputs": []
    },
    {
      "cell_type": "code",
      "source": [
        "from matplotlib import cm\n",
        "from matplotlib.ticker import LinearLocator, FormatStrFormatter\n",
        "from mpl_toolkits.mplot3d import Axes3D\n",
        "\n",
        "fig = plt.figure(figsize=(12, 9))\n",
        "ax = Axes3D(fig)\n",
        "y = ising_data_8['Js']\n",
        "x = ising_data_8['hs']\n",
        "z = ising_data_8['True Magnetisations']\n",
        "\n",
        "ax.plot_trisurf(x,y,z,  cmap=cm.jet, linewidth=0.2)\n",
        "plt.title('Ising spin chain magnetisation')\n",
        "ax.set_ylabel('Js')\n",
        "ax.set_xlabel('hs')\n",
        "ax.set_zlabel('Magnetisations')\n",
        "plt.savefig('8 qubit ISING magnetisation TRUE.pdf')\n",
        "plt.legend()"
      ],
      "metadata": {
        "id": "wMGUYOJPMnq5"
      },
      "execution_count": null,
      "outputs": []
    },
    {
      "cell_type": "code",
      "source": [
        "# plt.plot(np.linspace(-5,5,datapoints),ising_data['True Magnetisations'])\n",
        "# #plt.xscale('log')\n",
        "# plt.legend(['Magnetisation'])\n",
        "# plt.title('Magnetisations')\n",
        "# plt.xlabel('Relative transverse field strength')\n",
        "# plt.ylabel('Magnetisation')"
      ],
      "metadata": {
        "id": "RUYMP1ahmK7r"
      },
      "execution_count": null,
      "outputs": []
    },
    {
      "cell_type": "code",
      "execution_count": null,
      "metadata": {
        "id": "wsHJAi0ysoC4"
      },
      "outputs": [],
      "source": [
        "n = 8\n",
        "classifier_1 = MLP_2(n,U_conv_6,pointwise_identity_embedding)\n",
        "classifier_1.train(X_train_1,y_train_1.iloc[:,1])\n",
        "expectations_1 = classifier_1.predict(X_test_1.iloc[:,0:2**n])\n",
        "\n",
        "def classify_bi(exp):\n",
        "  if exp >= 0.5:\n",
        "    pred = 1\n",
        "  else:\n",
        "    pred = 0\n",
        "  return pred\n",
        "\n",
        " #Check the accuracy of the predictions \n",
        "correct_1 = 0\n",
        "\n",
        "q_predictions_1 = np.zeros(len(X_test_1.iloc[:,0]))\n",
        "for i in range(len(q_predictions_1)):\n",
        "  q_predictions_1[i] = classify_bi(expectations_1[i])\n",
        "  #print(q_predictions[i])\n",
        "  if q_predictions_1[i] == y_test_1.iloc[i,1]:\n",
        "    correct_1 += 1\n",
        "\n",
        "accuracy_1 = (correct_1/len(q_predictions_1))*100\n",
        "\n",
        "print('The binary classification for the Ising Model data set is ', accuracy_1 ,'% accurate ')\n",
        "\n",
        "y_test_1.insert(3,'expectation values',expectations_1)\n",
        "y_test_1.insert(4,'predicted classes',q_predictions_1)\n",
        "\n",
        "y_test_1.sort_values('True Magnetisations')"
      ]
    },
    {
      "cell_type": "code",
      "source": [
        "y_test_1"
      ],
      "metadata": {
        "id": "zKq7mYkJfW4m"
      },
      "execution_count": null,
      "outputs": []
    },
    {
      "cell_type": "code",
      "source": [
        "from matplotlib import cm\n",
        "from matplotlib.ticker import LinearLocator, FormatStrFormatter\n",
        "from mpl_toolkits.mplot3d import Axes3D\n",
        "\n",
        "fig = plt.figure(figsize=(12, 9))\n",
        "ax = Axes3D(fig)\n",
        "y = y_test_1['Js']\n",
        "x = y_test_1['hs']\n",
        "z = y_test_1['expectation values']\n",
        "\n",
        "ax.plot_trisurf(x,y,z,  cmap=cm.jet, linewidth=0.2)\n",
        "plt.title('Ising spin chain QNN expectation values')\n",
        "ax.set_ylabel('Js')\n",
        "ax.set_xlabel('hs')\n",
        "ax.set_zlabel('Expectation Value')\n",
        "\n",
        "plt.savefig('8 qubit ISING magnetisation PREDICTION.pdf')\n"
      ],
      "metadata": {
        "id": "m6SdbUT2Q50C"
      },
      "execution_count": null,
      "outputs": []
    },
    {
      "cell_type": "code",
      "source": [
        "from matplotlib import cm\n",
        "from matplotlib.ticker import LinearLocator, FormatStrFormatter\n",
        "from mpl_toolkits.mplot3d import Axes3D\n",
        "\n",
        "fig = plt.figure(figsize=(12, 9))\n",
        "ax = Axes3D(fig)\n",
        "y = y_test_1['Js']\n",
        "x = y_test_1['hs']\n",
        "z = np.abs(y_test_1['expectation values'] - y_test_1['True Magnetisations'])\n",
        "\n",
        "ax.plot_trisurf(x,y,z,  cmap=cm.jet, linewidth=0.2)\n",
        "plt.title('Ising spin chain magnetism observable error')\n",
        "ax.set_ylabel('Js')\n",
        "ax.set_xlabel('hs')\n",
        "ax.set_zlabel('Observable prediction error')\n",
        "plt.savefig('8 qubit ISING magnetisation ERROR.pdf')\n",
        "plt.legend()"
      ],
      "metadata": {
        "id": "X5omkRZTS41b"
      },
      "execution_count": null,
      "outputs": []
    },
    {
      "cell_type": "code",
      "source": [
        "plt.plot(np.linspace(0,len(-y_test_1.iloc[:,0]),len(-y_test_1.iloc[:,0])),y_test_1.sort_values('True Magnetisations').iloc[:,0]) #magnetisation\n",
        "plt.plot(np.linspace(0,len(-y_test_1.iloc[:,0]),len(-y_test_1.iloc[:,0])),y_test_1.sort_values('True Magnetisations').iloc[:,3]) #Expectations\n",
        "# plt.plot(np.linspace(0,len(-y_test_1.iloc[:,0]),len(-y_test_1.iloc[:,0])),y_test_1.sort_values('True Magnetisations').iloc[:,1]) #Classes\n",
        "# plt.plot(np.linspace(0,len(-y_test_1.iloc[:,0]),len(-y_test_1.iloc[:,0])),y_test_1.sort_values('True Magnetisations').iloc[:,4])#predicted classes\n",
        "plt.title('Magnetisations and expectations of various field strengths')\n",
        "plt.xlabel('Ground state')\n",
        "# plt.legend(['magnetisation','expectation values','true labels','predicted classes'])\n",
        "plt.legend(['magnetisation','expectation values'])"
      ],
      "metadata": {
        "id": "3N2mwAT9q05F"
      },
      "execution_count": null,
      "outputs": []
    },
    {
      "cell_type": "markdown",
      "source": [
        "#### 6 qubits"
      ],
      "metadata": {
        "id": "o6Vvwnd-xvUp"
      }
    },
    {
      "cell_type": "code",
      "source": [
        "from matplotlib import cm\n",
        "from matplotlib.ticker import LinearLocator, FormatStrFormatter\n",
        "from mpl_toolkits.mplot3d import Axes3D\n",
        "\n",
        "fig = plt.figure(figsize=(12, 9))\n",
        "ax = Axes3D(fig)\n",
        "y = ising_data_6['Js']\n",
        "x = ising_data_6['hs']\n",
        "z = ising_data_6['True Magnetisations']\n",
        "\n",
        "ax.plot_trisurf(x,y,z,  cmap=cm.jet, linewidth=0.2)\n",
        "plt.title('Ising spin chain magnetisation')\n",
        "ax.set_ylabel('Js')\n",
        "ax.set_xlabel('hs')\n",
        "ax.set_zlabel('Magnetisations')\n",
        "plt.legend()"
      ],
      "metadata": {
        "id": "Cr2XjXGkx0Js"
      },
      "execution_count": null,
      "outputs": []
    },
    {
      "cell_type": "code",
      "source": [
        "n = 6\n",
        "classifier_2 = MLP_2(n,U_conv_6,pointwise_identity_embedding)\n",
        "classifier_2.train(X_train_2,y_train_2.iloc[:,1])\n",
        "expectations_2 = classifier_2.predict(X_test_2.iloc[:,0:2**n])\n",
        "\n",
        "def classify_bi(exp):\n",
        "  if exp >= 0.5:\n",
        "    pred = 1\n",
        "  else:\n",
        "    pred = 0 \n",
        "  return pred\n",
        "\n",
        " #Check the accuracy of the predictions \n",
        "correct_2 = 0\n",
        "\n",
        "q_predictions_2 = np.zeros(len(X_test_2.iloc[:,0]))\n",
        "for i in range(len(q_predictions_2)):\n",
        "  q_predictions_2[i] = classify_bi(expectations_2[i])\n",
        "  #print(q_predictions[i])\n",
        "  if q_predictions_2[i] == y_test_2.iloc[i,1]:\n",
        "    correct_2 += 1\n",
        "\n",
        "accuracy_2 = (correct_2/len(q_predictions_2))*100\n",
        "\n",
        "print('The binary classification for the Ising Model data set is ', accuracy_2 ,'% accurate ')\n",
        "\n",
        "y_test_2.insert(3,'expectation values',expectations_2)\n",
        "y_test_2.insert(4,'predicted classes',q_predictions_2)\n",
        "\n",
        "y_test_2.sort_values('True Magnetisations')"
      ],
      "metadata": {
        "id": "-laP2ZM4sadi"
      },
      "execution_count": null,
      "outputs": []
    },
    {
      "cell_type": "code",
      "source": [
        "from matplotlib import cm\n",
        "from matplotlib.ticker import LinearLocator, FormatStrFormatter\n",
        "from mpl_toolkits.mplot3d import Axes3D\n",
        "\n",
        "fig = plt.figure(figsize=(12, 9))\n",
        "ax = Axes3D(fig)\n",
        "y = y_test_2['Js']\n",
        "x = y_test_2['hs']\n",
        "z = y_test_2['expectation values']\n",
        "\n",
        "ax.plot_trisurf(x,y,z,  cmap=cm.jet, linewidth=0.2)\n",
        "plt.title('Ising spin chain QNN expectation values')\n",
        "ax.set_ylabel('Js')\n",
        "ax.set_xlabel('hs')\n",
        "ax.set_zlabel('Expectation Value')\n",
        "plt.legend()"
      ],
      "metadata": {
        "id": "eusgYqr_zbfx"
      },
      "execution_count": null,
      "outputs": []
    },
    {
      "cell_type": "code",
      "source": [
        "from matplotlib import cm\n",
        "from matplotlib.ticker import LinearLocator, FormatStrFormatter\n",
        "from mpl_toolkits.mplot3d import Axes3D\n",
        "\n",
        "fig = plt.figure(figsize=(12, 9))\n",
        "ax = Axes3D(fig)\n",
        "y = y_test_2['Js']\n",
        "x = y_test_2['hs']\n",
        "z = np.abs(y_test_2['expectation values'] - y_test_2['True Magnetisations'])\n",
        "\n",
        "ax.plot_trisurf(x,y,z,  cmap=cm.jet, linewidth=0.2)\n",
        "plt.title('Ising spin chain magnetism observable error')\n",
        "ax.set_ylabel('Js')\n",
        "ax.set_xlabel('hs')\n",
        "ax.set_zlabel('Observable prediction error')\n",
        "plt.legend()"
      ],
      "metadata": {
        "id": "ouWS4IwjzlXr"
      },
      "execution_count": null,
      "outputs": []
    },
    {
      "cell_type": "code",
      "source": [
        "plt.plot(np.linspace(0,len(-y_test_2.iloc[:,0]),len(-y_test_2.iloc[:,0])),y_test_2.sort_values('True Magnetisations').iloc[:,0]) #magnetisation\n",
        "plt.plot(np.linspace(0,len(-y_test_2.iloc[:,0]),len(-y_test_2.iloc[:,0])),y_test_2.sort_values('True Magnetisations').iloc[:,3]) #Expectations\n",
        "# plt.plot(np.linspace(0,len(-y_test_2.iloc[:,0]),len(-y_test_2.iloc[:,0])),y_test_2.sort_values('True Magnetisations').iloc[:,1]) #Classes\n",
        "# plt.plot(np.linspace(0,len(-y_test_2.iloc[:,0]),len(-y_test_2.iloc[:,0])),y_test_2.sort_values('True Magnetisations').iloc[:,4])#predicted classes\n",
        "plt.xlabel('Ground state')\n",
        "plt.legend(['magnetisation','expectation values','true labels','predicted classes'])"
      ],
      "metadata": {
        "id": "3wSFf6cXzvGO"
      },
      "execution_count": null,
      "outputs": []
    },
    {
      "cell_type": "markdown",
      "source": [
        "#### 4 qubits"
      ],
      "metadata": {
        "id": "LEcg5cDFzW6K"
      }
    },
    {
      "cell_type": "code",
      "source": [
        "from matplotlib import cm\n",
        "from matplotlib.ticker import LinearLocator, FormatStrFormatter\n",
        "from mpl_toolkits.mplot3d import Axes3D\n",
        "\n",
        "fig = plt.figure(figsize=(12, 9))\n",
        "ax = Axes3D(fig)\n",
        "y = ising_data_4['Js']\n",
        "x = ising_data_4['hs']\n",
        "z = ising_data_4['True Magnetisations']\n",
        "\n",
        "ax.plot_trisurf(x,y,z,  cmap=cm.jet, linewidth=0.2)\n",
        "plt.title('Ising spin chain magnetisation')\n",
        "ax.set_ylabel('Js')\n",
        "ax.set_xlabel('hs')\n",
        "ax.set_zlabel('Magnetisations')\n",
        "plt.legend()"
      ],
      "metadata": {
        "id": "GUmOzWNceJ4-"
      },
      "execution_count": null,
      "outputs": []
    },
    {
      "cell_type": "code",
      "source": [
        "n = 4\n",
        "classifier_3 = MLP_2(n,U_conv_6,pointwise_identity_embedding)\n",
        "classifier_3.train(X_train_3,y_train_3.iloc[:,1])\n",
        "expectations_3 = classifier_3.predict(X_test_3.iloc[:,0:2**n])\n",
        "\n",
        "def classify_bi(exp):\n",
        "  if exp >= 0.5:\n",
        "    pred = 1\n",
        "  else:\n",
        "    pred = 0\n",
        "  return pred\n",
        "\n",
        " #Check the accuracy of the predictions \n",
        "correct_3 = 0\n",
        "\n",
        "q_predictions_3 = np.zeros(len(X_test_3.iloc[:,0]))\n",
        "for i in range(len(q_predictions_3)):\n",
        "  q_predictions_3[i] = classify_bi(expectations_3[i])\n",
        "  #print(q_predictions[i])\n",
        "  if q_predictions_3[i] == y_test_3.iloc[i,1]:\n",
        "    correct_3 += 1\n",
        "\n",
        "accuracy_3 = (correct_3/len(q_predictions_3))*100\n",
        "\n",
        "print('The binary classification for the Ising Model data set is ', accuracy_3 ,'% accurate ')\n",
        "\n",
        "y_test_3.insert(3,'expectation values',expectations_3)\n",
        "y_test_3.insert(4,'predicted classes',q_predictions_3)\n",
        "\n",
        "y_test_3.sort_values('True Magnetisations')"
      ],
      "metadata": {
        "id": "e3BYAjoEqcZf"
      },
      "execution_count": null,
      "outputs": []
    },
    {
      "cell_type": "code",
      "source": [
        "from matplotlib import cm\n",
        "from matplotlib.ticker import LinearLocator, FormatStrFormatter\n",
        "from mpl_toolkits.mplot3d import Axes3D\n",
        "\n",
        "fig = plt.figure(figsize=(12, 9))\n",
        "ax = Axes3D(fig)\n",
        "y = y_test_3['Js']\n",
        "x = y_test_3['hs']\n",
        "z = y_test_3['expectation values']\n",
        "\n",
        "ax.plot_trisurf(x,y,z,  cmap=cm.jet, linewidth=0.2)\n",
        "plt.title('Ising spin chain QNN expectation values')\n",
        "ax.set_ylabel('Js')\n",
        "ax.set_xlabel('hs')\n",
        "ax.set_zlabel('Expectation Value')\n",
        "plt.legend()"
      ],
      "metadata": {
        "id": "n9Jvsp8gz1XR"
      },
      "execution_count": null,
      "outputs": []
    },
    {
      "cell_type": "code",
      "source": [
        "from matplotlib import cm\n",
        "from matplotlib.ticker import LinearLocator, FormatStrFormatter\n",
        "from mpl_toolkits.mplot3d import Axes3D\n",
        "\n",
        "fig = plt.figure(figsize=(12, 9))\n",
        "ax = Axes3D(fig)\n",
        "y = y_test_3['Js']\n",
        "x = y_test_3['hs']\n",
        "z = np.abs(y_test_3['expectation values'] - y_test_3['True Magnetisations'])\n",
        "\n",
        "ax.plot_trisurf(x,y,z,  cmap=cm.jet, linewidth=0.2)\n",
        "plt.title('Ising spin chain magnetism observable error')\n",
        "ax.set_ylabel('Js')\n",
        "ax.set_xlabel('hs')\n",
        "ax.set_zlabel('Observable prediction error')\n",
        "plt.legend()"
      ],
      "metadata": {
        "id": "KKoXBh_nz5Xo"
      },
      "execution_count": null,
      "outputs": []
    },
    {
      "cell_type": "code",
      "source": [
        "plt.plot(np.linspace(0,len(-y_test_3.iloc[:,0]),len(-y_test_3.iloc[:,0])),y_test_3.sort_values('True Magnetisations').iloc[:,0]) #magnetisation\n",
        "plt.plot(np.linspace(0,len(-y_test_3.iloc[:,0]),len(-y_test_3.iloc[:,0])),y_test_3.sort_values('True Magnetisations').iloc[:,3]) #Expectations\n",
        "# plt.plot(np.linspace(0,len(-y_test_3.iloc[:,0]),len(-y_test_3.iloc[:,0])),y_test_3.sort_values('True Magnetisations').iloc[:,1]) #Classes\n",
        "# plt.plot(np.linspace(0,len(-y_test_3.iloc[:,0]),len(-y_test_3.iloc[:,0])),y_test_3.sort_values('True Magnetisations').iloc[:,4])#predicted classes\n",
        "plt.xlabel('Ground state')\n",
        "plt.legend(['magnetisation','expectation values','true labels','predicted classes'])"
      ],
      "metadata": {
        "id": "p8cXpQYJsf0y"
      },
      "execution_count": null,
      "outputs": []
    },
    {
      "cell_type": "markdown",
      "source": [
        "### LIME"
      ],
      "metadata": {
        "id": "JJkJsAHtdPFb"
      }
    },
    {
      "cell_type": "markdown",
      "source": [
        "#### Quantum "
      ],
      "metadata": {
        "id": "2_1lwuJk8qeo"
      }
    },
    {
      "cell_type": "code",
      "source": [
        "plt.plot(np.linspace(0,len(-y_test_1.iloc[:,0]),len(-y_test_1.iloc[:,0])),y_test_1.sort_values('True Magnetisations').iloc[:,0]) #magnetisation\n",
        "plt.plot(np.linspace(0,len(-y_test_1.iloc[:,0]),len(-y_test_1.iloc[:,0])),y_test_1.sort_values('True Magnetisations').iloc[:,3]) #Expectations\n",
        "plt.plot(np.linspace(0,len(-y_test_1.iloc[:,0]),len(-y_test_1.iloc[:,0])),y_test_1.sort_values('True Magnetisations').iloc[:,1]) #Classes\n",
        "plt.plot(np.linspace(0,len(-y_test_1.iloc[:,0]),len(-y_test_1.iloc[:,0])),y_test_1.sort_values('True Magnetisations').iloc[:,4])#predicted classes\n",
        "plt.xlabel('Ground state')\n",
        "plt.legend(['magnetisation','expectation values','true labels','predicted classes'])"
      ],
      "metadata": {
        "id": "MTG8WJQazmNI"
      },
      "execution_count": null,
      "outputs": []
    },
    {
      "cell_type": "code",
      "source": [
        "classifier = classifier_1"
      ],
      "metadata": {
        "id": "pbWJnB1UNf-h"
      },
      "execution_count": null,
      "outputs": []
    },
    {
      "cell_type": "code",
      "source": [
        "field_features"
      ],
      "metadata": {
        "id": "KRrl6PD5TrcK"
      },
      "execution_count": null,
      "outputs": []
    },
    {
      "cell_type": "code",
      "source": [
        "classifier.create_probabilities_Ising_field(field_features.iloc[:,:].values[42])"
      ],
      "metadata": {
        "id": "fc0Mp8J5UpOt"
      },
      "execution_count": null,
      "outputs": []
    },
    {
      "cell_type": "code",
      "source": [
        "np.array(X_test_1.iloc[42,0:2**4])"
      ],
      "metadata": {
        "id": "huUI4UfmVRRw"
      },
      "execution_count": null,
      "outputs": []
    },
    {
      "cell_type": "code",
      "source": [
        "classifier.predict(np.array(X_test_1.iloc[:,0:2**4]))[42]"
      ],
      "metadata": {
        "id": "4bdD-LckmkAQ"
      },
      "execution_count": null,
      "outputs": []
    },
    {
      "cell_type": "code",
      "source": [
        "classifier.create_probabilities_Ising_field(np.array([field_features.iloc[:,:].values[43]]))"
      ],
      "metadata": {
        "id": "Vpx2Om2HZ2Rx"
      },
      "execution_count": null,
      "outputs": []
    },
    {
      "cell_type": "code",
      "source": [
        "classifier.create_probabilities_Ising_field(field_features.iloc[:,:].values[11])"
      ],
      "metadata": {
        "id": "35t9vzxLZ5vH"
      },
      "execution_count": null,
      "outputs": []
    },
    {
      "cell_type": "code",
      "source": [
        "q_explainer = lime.lime_tabular.LimeTabularExplainer(field_features.iloc[:,:].values, feature_names=['J','h'], class_names=['Ferromagnetic','Anti-ferromagnetic'], discretize_continuous=True)\n",
        "q_exp_1 = q_explainer.explain_instance(field_features.iloc[:,:].values[3], classifier.create_probabilities_Ising_field, num_features=2, top_labels=1)\n",
        "q_exp_1_1feature = q_explainer.explain_instance(field_features.iloc[:,:].values[3], classifier.create_probabilities_Ising_field, num_features=1, top_labels=1)\n"
      ],
      "metadata": {
        "id": "kZTi-CkC11WQ"
      },
      "execution_count": null,
      "outputs": []
    },
    {
      "cell_type": "markdown",
      "source": [
        "##### 4 qubits"
      ],
      "metadata": {
        "id": "L8K8wp3er_ix"
      }
    },
    {
      "cell_type": "code",
      "source": [
        "q_exp_1.show_in_notebook(show_table=True, show_all=True)"
      ],
      "metadata": {
        "id": "it5a-C8G-9o3"
      },
      "execution_count": null,
      "outputs": []
    },
    {
      "cell_type": "code",
      "source": [
        "q_exp_1_1feature.show_in_notebook(show_table=True, show_all=True)"
      ],
      "metadata": {
        "id": "AJz-rFk2Xcg2"
      },
      "execution_count": null,
      "outputs": []
    },
    {
      "cell_type": "code",
      "source": [
        "q_explainer = lime.lime_tabular.LimeTabularExplainer(field_features.iloc[:,:].values, feature_names=['J','h'], class_names=['Ferromagnetic','Anti-ferromagnetic'], discretize_continuous=True)\n",
        "q_exp_2 = q_explainer.explain_instance(field_features.iloc[:,:].values[1], classifier.create_probabilities_Ising_field, num_features=2, top_labels=1)\n",
        "q_exp_2_1feature = q_explainer.explain_instance(field_features.iloc[:,:].values[1], classifier.create_probabilities_Ising_field, num_features=1, top_labels=1)\n"
      ],
      "metadata": {
        "id": "h7jxkpujLPKe"
      },
      "execution_count": null,
      "outputs": []
    },
    {
      "cell_type": "code",
      "source": [
        "q_exp_2.show_in_notebook(show_table=True, show_all=True)"
      ],
      "metadata": {
        "id": "OHuCyDzB-8o9"
      },
      "execution_count": null,
      "outputs": []
    },
    {
      "cell_type": "code",
      "source": [
        "q_exp_2_1feature.show_in_notebook(show_table=True, show_all=True)"
      ],
      "metadata": {
        "id": "4htmEHmMXeEv"
      },
      "execution_count": null,
      "outputs": []
    },
    {
      "cell_type": "code",
      "source": [
        "q_explainer = lime.lime_tabular.LimeTabularExplainer(field_features.iloc[:,:].values, feature_names=['J','h'],class_names=['Ferromagnetic','Anti-ferromagnetic'], discretize_continuous=True)\n",
        "q_exp_3 = q_explainer.explain_instance(field_features.iloc[:,:].values[2], classifier.create_probabilities_Ising_field, num_features=2, top_labels=1)\n",
        "q_exp_3_1feature = q_explainer.explain_instance(field_features.iloc[:,:].values[2], classifier.create_probabilities_Ising_field, num_features=1, top_labels=1)\n"
      ],
      "metadata": {
        "id": "L0wheVhAhIvb"
      },
      "execution_count": null,
      "outputs": []
    },
    {
      "cell_type": "code",
      "source": [
        "q_exp_3.show_in_notebook(show_table=True, show_all=True)"
      ],
      "metadata": {
        "id": "70BswUyY-2EZ"
      },
      "execution_count": null,
      "outputs": []
    },
    {
      "cell_type": "code",
      "source": [
        "q_exp_3_1feature.show_in_notebook(show_table=True, show_all=True)"
      ],
      "metadata": {
        "id": "DXlY5c6QXrMY"
      },
      "execution_count": null,
      "outputs": []
    },
    {
      "cell_type": "markdown",
      "source": [
        "##### 6 qubits"
      ],
      "metadata": {
        "id": "fW2RhoOSr8WL"
      }
    },
    {
      "cell_type": "code",
      "source": [
        "q_explainer = lime.lime_tabular.LimeTabularExplainer(field_features.iloc[:,:].values, feature_names=['J','h'],class_names=['Ferromagnetic','Anti-ferromagnetic'], discretize_continuous=True)\n",
        "q_exp_4 = q_explainer.explain_instance(field_features.iloc[:,:].values[87], classifier.create_probabilities_Ising_field, num_features=2, top_labels=1)\n",
        "q_exp_4_1feature = q_explainer.explain_instance(field_features.iloc[:,:].values[87], classifier.create_probabilities_Ising_field, num_features=1, top_labels=1)\n"
      ],
      "metadata": {
        "id": "GR2SV4rRXGpU"
      },
      "execution_count": null,
      "outputs": []
    },
    {
      "cell_type": "code",
      "source": [
        "q_exp_4.show_in_notebook(show_table=True, show_all=True)"
      ],
      "metadata": {
        "id": "z5FDGjQzbAoH"
      },
      "execution_count": null,
      "outputs": []
    },
    {
      "cell_type": "code",
      "source": [
        "q_exp_4_1feature.show_in_notebook(show_table=True, show_all=True)"
      ],
      "metadata": {
        "id": "UQB3tkFkbCFd"
      },
      "execution_count": null,
      "outputs": []
    },
    {
      "cell_type": "markdown",
      "source": [
        "##### 8 qubits"
      ],
      "metadata": {
        "id": "V-Uaw94dwNcF"
      }
    },
    {
      "cell_type": "code",
      "source": [
        "y_test = y_test_1\n",
        "field_features = pd.DataFrame({'Js' : y_test['Js'],'hs' : y_test['hs']})"
      ],
      "metadata": {
        "id": "JYmsQgsIcI6M"
      },
      "execution_count": null,
      "outputs": []
    },
    {
      "cell_type": "code",
      "source": [
        "#Run me next\n",
        "#trial_points = np.array([[-8,0.1],[-2.5,-1],[-5,7.5],[-0.9,-7.5],[1,-3],[1,0.5],[7,9]])\n",
        "\n",
        "alpha = np.array([[-8,3.5],[-8,10],[1,0.5],[-0.9,-7.5],[1,-3],[1,0.5],[7,9]])"
      ],
      "metadata": {
        "id": "v_8ilL9orbvK"
      },
      "execution_count": null,
      "outputs": []
    },
    {
      "cell_type": "code",
      "source": [
        "#True magnetisations\n",
        "n=8\n",
        "\n",
        "for i in range(alpha.shape[0]):\n",
        "  m,gs,ge = magnetisation_expectation_Z(n,qubit_operator_sparse(L_F_I(8,alpha[i,0],alpha[i,1],periodic_bc = True)))\n",
        "  print(alpha[i,:],m.real,classifier.predict(np.array([gs])))"
      ],
      "metadata": {
        "id": "jM-8jSWq7L7H"
      },
      "execution_count": null,
      "outputs": []
    },
    {
      "cell_type": "code",
      "source": [
        "classifier.predict(np.array([gs]))"
      ],
      "metadata": {
        "id": "Fa5NX_1g9gNc"
      },
      "execution_count": null,
      "outputs": []
    },
    {
      "cell_type": "code",
      "source": [
        "#Predicted magnetisations\n",
        "for i in range(trial_points.shape[0]):\n",
        "  print(trial_points[i,:] ,classifier_1.create_probabilities_Ising_field(trial_points[i,:]))"
      ],
      "metadata": {
        "id": "cNEiz25irMPg"
      },
      "execution_count": null,
      "outputs": []
    },
    {
      "cell_type": "code",
      "source": [
        "l2n1"
      ],
      "metadata": {
        "id": "P_rPXOfsvjYg"
      },
      "execution_count": null,
      "outputs": []
    },
    {
      "cell_type": "code",
      "source": [
        "l1n1"
      ],
      "metadata": {
        "id": "WOiPrtGpvk8S"
      },
      "execution_count": null,
      "outputs": []
    },
    {
      "cell_type": "code",
      "source": [
        "# q_explainer = lime.lime_tabular.LimeTabularExplainer(field_features.iloc[:,:].values, feature_names=['J','h'],class_names=['Anti-ferromagnetic','Ferromagnetic'], discretize_continuous=True)\n",
        "# classifier = classifier_1\n",
        "# l2n1 = []\n",
        "# l1n1 = []\n",
        "for i in range(5,trial_points.shape[0]):\n",
        "   l2n1.append(q_explainer.explain_instance(trial_points[i,:], classifier.create_probabilities_Ising_field, num_features=2, top_labels=1))\n",
        "   l1n1.append(q_explainer.explain_instance(trial_points[i,:], classifier.create_probabilities_Ising_field, num_features=1, top_labels=1))"
      ],
      "metadata": {
        "id": "LvoYd9SD9knl"
      },
      "execution_count": null,
      "outputs": []
    },
    {
      "cell_type": "markdown",
      "source": [
        "Top label only"
      ],
      "metadata": {
        "id": "rf1clXOBkqoO"
      }
    },
    {
      "cell_type": "code",
      "source": [
        "#1 feature explainations \n",
        "for i in range(trial_points.shape[0]):\n",
        "  print(l1n1[i].show_in_notebook(show_table=True, show_all=True))"
      ],
      "metadata": {
        "id": "7U3lMUr9QBmY"
      },
      "execution_count": null,
      "outputs": []
    },
    {
      "cell_type": "code",
      "source": [
        "#1 feature explainations \n",
        "for i in range(trial_points.shape[0]):\n",
        "  print(l2n1[i].show_in_notebook(show_table=True, show_all=True))"
      ],
      "metadata": {
        "id": "ODEqL65GknHG"
      },
      "execution_count": null,
      "outputs": []
    },
    {
      "cell_type": "code",
      "source": [
        "trial_points[1,:]"
      ],
      "metadata": {
        "id": "YztQ8n85W0A4"
      },
      "execution_count": null,
      "outputs": []
    },
    {
      "cell_type": "code",
      "source": [
        "q_exp_c = q_explainer.explain_instance(np.array([-1,0.5]), classifier.create_probabilities_Ising_field, num_features=2, top_labels=1)\n",
        "q_exp_d = q_explainer.explain_instance(np.array([1,0.5]), classifier.create_probabilities_Ising_field, num_features=2, top_labels=1)\n"
      ],
      "metadata": {
        "id": "-be_Iz4HPOEE"
      },
      "execution_count": null,
      "outputs": []
    },
    {
      "cell_type": "code",
      "source": [
        "#q_exp_e = q_explainer.explain_instance(np.array([-4,3.5]), classifier.create_probabilities_Ising_field, num_features=2, top_labels=1)\n",
        "x§q_exp_f = q_explainer.explain_instance(np.array([-1,1.25]), classifier.create_probabilities_Ising_field, num_features=2, top_labels=1)\n"
      ],
      "metadata": {
        "id": "pEGy_Qz-Qs9t"
      },
      "execution_count": null,
      "outputs": []
    },
    {
      "cell_type": "code",
      "source": [
        "q_exp_e.show_in_notebook(show_table=True, show_all=True)"
      ],
      "metadata": {
        "id": "Qe1cmRcKgW0f"
      },
      "execution_count": null,
      "outputs": []
    },
    {
      "cell_type": "code",
      "source": [
        "q_exp_f.show_in_notebook(show_table=True, show_all=True)"
      ],
      "metadata": {
        "id": "YBQ-wSu2gWvP"
      },
      "execution_count": null,
      "outputs": []
    },
    {
      "cell_type": "code",
      "source": [
        "q_exp_c.show_in_notebook(show_table=True, show_all=True)"
      ],
      "metadata": {
        "id": "q2emg1uxPYgQ"
      },
      "execution_count": null,
      "outputs": []
    },
    {
      "cell_type": "code",
      "source": [
        "q_exp_d.show_in_notebook(show_table=True, show_all=True)"
      ],
      "metadata": {
        "id": "O8q-VfWvPbBe"
      },
      "execution_count": null,
      "outputs": []
    },
    {
      "cell_type": "code",
      "source": [
        "q_explainer = lime.lime_tabular.LimeTabularExplainer(field_features.iloc[:,:].values, feature_names=['J','h'],class_names=['Anti-ferromagnetic','Ferromagnetic'], discretize_continuous=True)\n",
        "q_exp_a = q_explainer.explain_instance(np.array([-1, 7 ]), classifier.create_probabilities_Ising_field, num_features=2, top_labels=1)\n",
        "q_exp_b = q_explainer.explain_instance(np.array([-1,0.5]), classifier.create_probabilities_Ising_field, num_features=2, top_labels=1)\n",
        "q_exp_e = q_explainer.explain_instance(np.array([-1, -7 ]), classifier.create_probabilities_Ising_field, num_features=2, top_labels=1)\n"
      ],
      "metadata": {
        "id": "cRJWZCjNWexh"
      },
      "execution_count": null,
      "outputs": []
    },
    {
      "cell_type": "code",
      "source": [
        "q_exp_10 = q_explainer.explain_instance(np.array([-1, 10 ]), classifier.create_probabilities_Ising_field, num_features=2, top_labels=1)\n"
      ],
      "metadata": {
        "id": "GmGCBnC4dAfU"
      },
      "execution_count": null,
      "outputs": []
    },
    {
      "cell_type": "code",
      "source": [
        "classifier.create_probabilities_Ising_field(np.array([[-1, 10 ]]))"
      ],
      "metadata": {
        "id": "hPcKS3XFeqDe"
      },
      "execution_count": null,
      "outputs": []
    },
    {
      "cell_type": "code",
      "source": [
        "q_exp_10.show_in_notebook(show_table=True, show_all=True)"
      ],
      "metadata": {
        "id": "YGjx2_rTdQZd"
      },
      "execution_count": null,
      "outputs": []
    },
    {
      "cell_type": "code",
      "source": [
        "q_exp_a.show_in_notebook(show_table=True, show_all=True)"
      ],
      "metadata": {
        "id": "-PlCOvyVJPNV"
      },
      "execution_count": null,
      "outputs": []
    },
    {
      "cell_type": "code",
      "source": [
        "q_exp_b.show_in_notebook(show_table=True, show_all=True)"
      ],
      "metadata": {
        "id": "KbcrwpM8XGgE"
      },
      "execution_count": null,
      "outputs": []
    },
    {
      "cell_type": "code",
      "source": [
        "q_exp_e.show_in_notebook(show_table=True, show_all=True)"
      ],
      "metadata": {
        "id": "Y7FR4fDhXgjT"
      },
      "execution_count": null,
      "outputs": []
    },
    {
      "cell_type": "code",
      "source": [
        "bq_explainer.q_explainer(np.array[-1,1.23], classifier.create_probabilities_Ising_field, num_features=1, top_labels=1)"
      ],
      "metadata": {
        "id": "BJZdESRpWMLe"
      },
      "execution_count": null,
      "outputs": []
    },
    {
      "cell_type": "code",
      "source": [
        "l2n"
      ],
      "metadata": {
        "id": "xiSvf6pI7iqs"
      },
      "execution_count": null,
      "outputs": []
    },
    {
      "cell_type": "code",
      "source": [
        "l1n"
      ],
      "metadata": {
        "id": "M8OKT2rf7kz3"
      },
      "execution_count": null,
      "outputs": []
    },
    {
      "cell_type": "code",
      "source": [
        "from matplotlib import cm\n",
        "from matplotlib.ticker import LinearLocator, FormatStrFormatter\n",
        "from mpl_toolkits.mplot3d import Axes3D\n",
        "\n",
        "fig = plt.figure(figsize=(12, 9))\n",
        "ax = Axes3D(fig)\n",
        "y = ising_data_8['Js']\n",
        "x = ising_data_8['hs']\n",
        "z = ising_data_8['True Magnetisations']\n",
        "\n",
        "ax.plot_trisurf(x,y,z,  cmap=cm.jet, linewidth=0.2)\n",
        "plt.title('Ising spin chain magnetisation')\n",
        "ax.set_ylabel('Js')\n",
        "ax.set_xlabel('hs')\n",
        "ax.set_zlabel('Magnetisations')\n",
        "plt.legend()"
      ],
      "metadata": {
        "id": "3cT_y7bhkwhe"
      },
      "execution_count": null,
      "outputs": []
    },
    {
      "cell_type": "markdown",
      "source": [
        "Both Labels"
      ],
      "metadata": {
        "id": "_AAnwF2pkvdu"
      }
    },
    {
      "cell_type": "code",
      "source": [
        "q_explainer = lime.lime_tabular.LimeTabularExplainer(field_features.iloc[:,:].values, feature_names=['J','h'],class_names=['Anti-ferromagnetic','Ferromagnetic'], discretize_continuous=True)\n",
        "classifier = classifier_1\n",
        "l2n2 = []\n",
        "l1n2 = []\n",
        "for i in range(0,trial_points.shape[0]):\n",
        "   l2n2.append(q_explainer.explain_instance(trial_points[i,:], classifier.create_probabilities_Ising_field, num_features=2, top_labels=2))\n",
        "   l1n2.append(q_explainer.explain_instance(trial_points[i,:], classifier.create_probabilities_Ising_field, num_features=1, top_labels=2))"
      ],
      "metadata": {
        "id": "VH1_Dj8CFNzV"
      },
      "execution_count": null,
      "outputs": []
    },
    {
      "cell_type": "code",
      "source": [
        "#1 feature explainations \n",
        "for i in range(trial_points.shape[0]):\n",
        "  print(l1n2[i].show_in_notebook(show_table=True, show_all=True))"
      ],
      "metadata": {
        "id": "y2BUB-x2usG9"
      },
      "execution_count": null,
      "outputs": []
    },
    {
      "cell_type": "code",
      "source": [
        "#2 feature explainations \n",
        "for i in range(trial_points.shape[0]):\n",
        "  print(l2n2[i].show_in_notebook(show_table=True, show_all=True))"
      ],
      "metadata": {
        "id": "gc8140xnuyY2"
      },
      "execution_count": null,
      "outputs": []
    },
    {
      "cell_type": "markdown",
      "source": [],
      "metadata": {
        "id": "9fmpRkZH9dFL"
      }
    },
    {
      "cell_type": "markdown",
      "source": [
        "#### ANN"
      ],
      "metadata": {
        "id": "hkqblkQg8uN8"
      }
    },
    {
      "cell_type": "code",
      "source": [
        "ann_explainer = lime.lime_tabular.LimeTabularExplainer(field_features.iloc[:,:].values, feature_names=['Site coupling strength','Transverse field strength'], class_names=['Ferromagnetic','Anti-ferromagnetic'], discretize_continuous=True)\n",
        "ann_exp = q_explainer.explain_instance(field_features.iloc[:,:].values[2], classifier.create_probabilities_Ising_field, num_features=2, top_labels=1)\n",
        "\n",
        "\n",
        "ann_exp.show_in_notebook(show_table=True, show_all=True)"
      ],
      "metadata": {
        "id": "8PnM8nNWPll-"
      },
      "execution_count": null,
      "outputs": []
    },
    {
      "cell_type": "code",
      "source": [
        "model_1(cnn.inputs, cnn.get_layer(theNameYouWant).outputs)"
      ],
      "metadata": {
        "id": "6BKG0tTA8wJo"
      },
      "execution_count": null,
      "outputs": []
    },
    {
      "cell_type": "code",
      "source": [
        "Model(cnn.inputs, cnn.get_layer(theNameYouWant).outputs)"
      ],
      "metadata": {
        "id": "B-jYXxqW8wGw"
      },
      "execution_count": null,
      "outputs": []
    },
    {
      "cell_type": "code",
      "source": [
        " def ann_output_probabilities(model,input_X):\n",
        "\n",
        "    if input_X.ndim == 1:\n",
        "      input_X = np.reshape(input_X,(1,input_X.shape[0]))  \n",
        "\n",
        "    # print('The input field strengths are: ',input_X)\n",
        "    probabilities = np.zeros((input_X.shape[0],2))\n",
        "\n",
        "    for i in range(input_X.shape[0]):\n",
        "      E_vals,E_vecs = linalg.eigs(qubit_operator_sparse(T_F_I(n,J =input_X[i,0],h = input_X[i,1]))) #sparse Hamiltonian\n",
        "      gs = E_vecs[:,np.argmin(E_vals)]\n",
        "      # print(gs,gs.shape)\n",
        "      ge = np.amin(E_vals)\n",
        "      e = model_1(np.array([gs]), cnn.get_layer(theNameYouWant).outputs)\n",
        "      e = model.predict(np.array([gs]))\n",
        "      # print('the expectation value is: ', e)\n",
        "      p_0 = 1-e\n",
        "      p_1 = e\n",
        "      probabilities[i,:] = np.reshape(np.array([p_0, p_1]),probabilities[i,:].shape)\n",
        "      probabilities[i,:] = probabilities[i,:]/(probabilities[i,:].sum())           \n",
        "      \n",
        "    return probabilities"
      ],
      "metadata": {
        "id": "yInKIJS88wEB"
      },
      "execution_count": null,
      "outputs": []
    },
    {
      "cell_type": "code",
      "source": [],
      "metadata": {
        "id": "Fo0M6D278wBj"
      },
      "execution_count": null,
      "outputs": []
    },
    {
      "cell_type": "code",
      "source": [],
      "metadata": {
        "id": "QzbZCClD8v_L"
      },
      "execution_count": null,
      "outputs": []
    },
    {
      "cell_type": "code",
      "source": [],
      "metadata": {
        "id": "_tzoWFkI8v8r"
      },
      "execution_count": null,
      "outputs": []
    },
    {
      "cell_type": "code",
      "source": [],
      "metadata": {
        "id": "TXpg5YRJ8v58"
      },
      "execution_count": null,
      "outputs": []
    },
    {
      "cell_type": "code",
      "source": [],
      "metadata": {
        "id": "g6S0OPoG8v3p"
      },
      "execution_count": null,
      "outputs": []
    },
    {
      "cell_type": "markdown",
      "source": [
        "#### SK_learn"
      ],
      "metadata": {
        "id": "k2odKJSRcQtY"
      }
    },
    {
      "cell_type": "code",
      "source": [
        "y_test_1"
      ],
      "metadata": {
        "id": "aQqK8ECMWNBC"
      },
      "execution_count": null,
      "outputs": []
    },
    {
      "cell_type": "code",
      "source": [
        "#Call model from sklearn\n",
        "rfI = sklearn.ensemble.RandomForestClassifier(n_estimators=500)\n",
        "rfI.fit(np.real(X_train_1), y_train_1.iloc[:,1])\n",
        "rfI_classical_predictions = rfI.predict(np.real(X_test_1))"
      ],
      "metadata": {
        "id": "b4EFMU_ycS0t"
      },
      "execution_count": null,
      "outputs": []
    },
    {
      "cell_type": "code",
      "source": [
        "classical_explainer = lime.lime_tabular.LimeTabularExplainer(np.real(X_test_1.values),  class_names=['Ferromagnetic','Paramagentic'], discretize_continuous=True)\n",
        "classical_exp = classical_explainer.explain_instance(np.real(X_test_1.values[42]), rfI.predict_proba, num_features=2, top_labels=1)\n",
        "\n",
        "classical_exp.show_in_notebook(show_table=True, show_all=True)"
      ],
      "metadata": {
        "id": "M20Jh7Cgc68Z"
      },
      "execution_count": null,
      "outputs": []
    },
    {
      "cell_type": "markdown",
      "source": [
        "Need to apply the random forest classifeir to the quantum data"
      ],
      "metadata": {
        "id": "V257tT77AFf3"
      }
    },
    {
      "cell_type": "markdown",
      "source": [
        "## Kitaev Square Octagon lattice"
      ],
      "metadata": {
        "id": "qA9iLQ_BrorW"
      }
    },
    {
      "cell_type": "code",
      "source": [
        "def kitaev_square_octagon(J_x,J_y,J_z,h,n):\n",
        "  lattice_8_qubits = (QubitOperator(f'Z0 Z4',-J_z) + \n",
        "                      QubitOperator(f'X0 X1',-J_x) + \n",
        "                      QubitOperator(f'Y0 Y2',-J_y) + \n",
        "                      QubitOperator(f'Z1 Z5',-J_z) + \n",
        "                      QubitOperator(f'Y1 Y3',-J_y) + \n",
        "                      QubitOperator(f'Z3 Z6',-J_z) + \n",
        "                      QubitOperator(f'X3 X2',-J_x) +\n",
        "                      QubitOperator(f'Z2 Z7',-J_z))\n",
        "  if n == 8:\n",
        "    for i in range(n):\n",
        "      lattice_8_qubits += QubitOperator('X{}'.format(i),h) + QubitOperator('Y{}'.format(i),h) + QubitOperator('Z{}'.format(i),h)\n",
        "  \n",
        "\n",
        "  \n",
        "  lattice_16_qubits = (QubitOperator(f'Z0 Z4',-J_z) + \n",
        "                      QubitOperator(f'X0 X1',-J_x) + \n",
        "                      QubitOperator(f'Y0 Y2',-J_y) + \n",
        "                      QubitOperator(f'Z1 Z5',-J_z) + \n",
        "                      QubitOperator(f'Y1 Y3',-J_y) + \n",
        "                      QubitOperator(f'Z3 Z6',-J_z) + \n",
        "                      QubitOperator(f'X3 X2',-J_x) +\n",
        "                      QubitOperator(f'Z2 Z7',-J_x) +\n",
        "                      QubitOperator(f'X5 X12',-J_x) + \n",
        "                      QubitOperator(f'X6 X15',-J_x) +\n",
        "                      QubitOperator(f'Z8 Z12',-J_z) + \n",
        "                      QubitOperator(f'X8 X9',-J_x) + \n",
        "                      QubitOperator(f'Y8 Y10',-J_y) + \n",
        "                      QubitOperator(f'Z9 Z13',-J_z) + \n",
        "                      QubitOperator(f'Y9 Y11',-J_y) + \n",
        "                      QubitOperator(f'Z11 Z14',-J_z) + \n",
        "                      QubitOperator(f'X11 X10',-J_x) +\n",
        "                      QubitOperator(f'Z10 Z15',-J_z))\n",
        "  \n",
        "  if n == 16:\n",
        "    for i in range(n):\n",
        "      lattice_16_qubits += QubitOperator('X{}'.format(i),h) + QubitOperator('Y{}'.format(i),h) + QubitOperator('Z{}'.format(i),h)\n",
        "\n",
        "  if n == 8:\n",
        "    lattice =  lattice_8_qubits\n",
        "  elif n == 16:\n",
        "    lattice = lattice_16_qubits\n",
        "  else:\n",
        "    lattice =  'Please choose n = 8 or n = 16 only'\n",
        "  return lattice"
      ],
      "metadata": {
        "id": "DpzcaB-QrtHV"
      },
      "execution_count": null,
      "outputs": []
    },
    {
      "cell_type": "code",
      "source": [
        "E_vals,E_vecs = linalg.eigs(qubit_operator_sparse(kitaev_square_octagon(0.1,0.1,1,0,8)))\n",
        "E_vecs.shape"
      ],
      "metadata": {
        "id": "-7sTOdB-j354"
      },
      "execution_count": null,
      "outputs": []
    },
    {
      "cell_type": "markdown",
      "source": [
        "### Data generation"
      ],
      "metadata": {
        "id": "VwCXsIWJzWB-"
      }
    },
    {
      "cell_type": "code",
      "source": [
        "### TESTING CELL\n",
        "\n",
        "# # Create data\n",
        "# J_x = np.linspace(-5,5,datapoints)\n",
        "# J_y = np.linspace(-5,5,datapoints)\n",
        "# J_z = np.linspace(-5,5,1)\n",
        "# h = np.linspace(-1,1,3)\n",
        "# kitaev_parameters = list(it.product(J_x,J_y,J_z,h))\n",
        "\n",
        "# # Results arrays\n",
        "# magnetisations = np.zeros(len(kitaev_parameters))\n",
        "# Ground_states = np.zeros((len(kitaev_parameters),2**n),dtype = complex)  \n",
        "# energy = np.zeros(len(kitaev_parameters))"
      ],
      "metadata": {
        "id": "41Dnrr-iwRug"
      },
      "execution_count": null,
      "outputs": []
    },
    {
      "cell_type": "code",
      "source": [
        "def kitaev_octagon_get_data(n,datapoints,epsilon):\n",
        "  #The cardinality actually datapoints^2 since we take all pair wise combinations\n",
        "\n",
        "  # # Noise\n",
        "  # c = np.matrix(np.random.rand(2**n,2**n)+ 1j*np.random.rand(2**n,2**n))\n",
        "  # d = np.conjugate(c.T)\n",
        "  # h = c + d\n",
        "  # h = epsilon*h\n",
        "  # U = scipy.linalg.expm(1j*h)\n",
        "\n",
        "  # Create data\n",
        "  J_x = np.linspace(-5,5,datapoints)\n",
        "  J_y = np.linspace(-5,5,datapoints)\n",
        "  J_z = np.linspace(-5,5,datapoints)\n",
        "  h = np.linspace(-1,1,datapoints)\n",
        "  kitaev_parameters = list(it.product(J_x,J_y,J_z,h))\n",
        "\n",
        "  # Results arrays\n",
        "  k_magnetisations = np.zeros(len(kitaev_parameters))\n",
        "  Ground_states = np.zeros((len(kitaev_parameters),2**n),dtype = complex)  \n",
        "  energy = np.zeros(len(kitaev_parameters))\n",
        "\n",
        "  i = 0\n",
        "\n",
        "  parameter = (J_x,J_y,J_z,h)\n",
        "\n",
        "  for parameter in kitaev_parameters:\n",
        "    parameter = kitaev_parameters[i]\n",
        "    H_dummy = qubit_operator_sparse(kitaev_square_octagon(parameter[0],\n",
        "                                                          parameter[1],\n",
        "                                                          parameter[2],\n",
        "                                                          parameter[3],\n",
        "                                                          n))\n",
        "    \n",
        "    # # Apply noise transform\n",
        "    # H_dummy = U @ H_dummy\n",
        "                                                          \n",
        "    m,g,e = magnetisation_expectation(n,H_dummy)\n",
        "    k_magnetisations[i] = m[0,0]\n",
        "    g = g.reshape(2**n)\n",
        "    Ground_states[i,:] = g \n",
        "    e = np.array(e).real\n",
        "    energy[i] = e\n",
        "    i+= 1\n",
        "                                                          \n",
        "  return kitaev_parameters,magnetisations,Ground_states,energy"
      ],
      "metadata": {
        "id": "lzb0esYZruTZ"
      },
      "execution_count": null,
      "outputs": []
    },
    {
      "cell_type": "code",
      "source": [
        "#Create and format testing data\n",
        "datapoints = 7\n",
        "n=8\n",
        "kitaev_parameters,magnetisations,Ground_states,energy = kitaev_octagon_get_data(8,datapoints,0)\n",
        "\n",
        "kitaev_ground_states = pd.DataFrame(Ground_states)\n",
        "kitaev_data = pd.DataFrame([kitaev_parameters,magnetisations,np.round(Ground_states,3),energy]).T\n",
        "kitaev_data.columns = ['kitaev_parameters','magnetisations','Ground_states','energy']\n",
        "\n",
        "#Transform data into useful formats\n",
        "\n",
        "jx = np.zeros(kitaev_data.shape[0])\n",
        "jy = np.zeros(kitaev_data.shape[0])\n",
        "jz = np.zeros(kitaev_data.shape[0])\n",
        "h = np.zeros(kitaev_data.shape[0])\n",
        "\n",
        "for i in range(kitaev_data.shape[0]):\n",
        "  jx[i] = (kitaev_data['kitaev_parameters'][i])[0]\n",
        "  jy[i] = (kitaev_data['kitaev_parameters'][i])[1]\n",
        "  jz[i] = (kitaev_data['kitaev_parameters'][i])[2]\n",
        "  h[i] = (kitaev_data['kitaev_parameters'][i])[3]\n",
        "\n",
        "parameters = pd.DataFrame([jx,jy,jz,h]).T\n",
        "parameters.columns = ['jx','jy','jz','h']\n",
        "\n",
        "kitaev_data = kitaev_data.iloc[:,1:]\n",
        "kitaev_data.insert(0,'h',h)\n",
        "kitaev_data.insert(0,'jz',jz)\n",
        "kitaev_data.insert(0,'jy',jx)\n",
        "kitaev_data.insert(0,'jx',jy)\n",
        "\n",
        "ground_states = np.zeros((datapoints**4 ,2**8),dtype = complex)\n",
        "for i in range(datapoints**4):\n",
        "  ground_states[i,:] = kitaev_data['Ground_states'][i]\n",
        "\n",
        "ground_states\n",
        "kitaev_data = pd.concat([kitaev_data,pd.DataFrame(ground_states)],axis = 1)\n",
        "kitaev_data = kitaev_data.drop(columns = 'Ground_states')\n"
      ],
      "metadata": {
        "id": "ncH6iXbJruQq"
      },
      "execution_count": null,
      "outputs": []
    },
    {
      "cell_type": "code",
      "source": [
        "kitaev_data.to_csv('/content/drive/MyDrive/Data/kitaev_8.csv')"
      ],
      "metadata": {
        "id": "Ut6ygd9rmu5T"
      },
      "execution_count": null,
      "outputs": []
    },
    {
      "cell_type": "code",
      "source": [
        "kitaev_data"
      ],
      "metadata": {
        "id": "uIUuPuMYitGq"
      },
      "execution_count": null,
      "outputs": []
    },
    {
      "cell_type": "markdown",
      "source": [
        "### Import data"
      ],
      "metadata": {
        "id": "FKTr3Z45mlzh"
      }
    },
    {
      "cell_type": "code",
      "source": [
        "imported_kitaev_data = pd.read_csv('/content/drive/MyDrive/Data/kitaev_8.csv')\n",
        "kitaev_data = imported_kitaev_data.iloc[:,0:] # redundant remove index, only run once!"
      ],
      "metadata": {
        "id": "iP9lQp_Swq4L"
      },
      "execution_count": null,
      "outputs": []
    },
    {
      "cell_type": "code",
      "source": [
        "kitaev_data = imported_kitaev_data.iloc[:,1:]"
      ],
      "metadata": {
        "id": "3828weGgfl98"
      },
      "execution_count": null,
      "outputs": []
    },
    {
      "cell_type": "code",
      "source": [
        "kitaev_data.iloc[:,6:] = np.array(kitaev_data.iloc[:,6:],dtype = complex)"
      ],
      "metadata": {
        "id": "exjxQYZZSneh"
      },
      "execution_count": null,
      "outputs": []
    },
    {
      "cell_type": "markdown",
      "source": [
        "### Plot magnetisation at ground state energy"
      ],
      "metadata": {
        "id": "2fer8Ys--wNd"
      }
    },
    {
      "cell_type": "code",
      "source": [
        "np.max(kitaev_data['magnetisations'])"
      ],
      "metadata": {
        "id": "J9yowhv5qFd1"
      },
      "execution_count": null,
      "outputs": []
    },
    {
      "cell_type": "code",
      "source": [
        "### Reduced data set, setting h = 1\n",
        "kitaev_data_reduced = kitaev_data\n",
        "kitaev_data_reduced = kitaev_data_reduced[kitaev_data['jx'] == kitaev_data['jy']] \n",
        "kitaev_data_reduced = kitaev_data_reduced[kitaev_data['h'] == 1] \n",
        "kitaev_data_reduced.drop('jy',axis = 1)\n",
        "kitaev_data_reduced.drop('h',axis = 1)"
      ],
      "metadata": {
        "id": "Y2aNrGZSoGH4"
      },
      "execution_count": null,
      "outputs": []
    },
    {
      "cell_type": "code",
      "source": [
        "import numpy as np\n",
        "import matplotlib.pyplot as plt\n",
        "from matplotlib import cm\n",
        "from matplotlib.ticker import LinearLocator, FormatStrFormatter\n",
        "from mpl_toolkits.mplot3d import Axes3D\n",
        "\n",
        "\n",
        "\n",
        "ax = fig.add_subplot(1, 2, 1, projection='3d')\n",
        "ax.plot_trisurf(x, y, z, triangles=tri.triangles, cmap=plt.cm.Spectral)\n",
        "\n"
      ],
      "metadata": {
        "id": "ILoce6msxLGy"
      },
      "execution_count": null,
      "outputs": []
    },
    {
      "cell_type": "code",
      "source": [
        "h_over_jz = np.zeros(kitaev_data_reduced.shape[0])\n",
        "jx_over_jz = np.zeros(kitaev_data_reduced.shape[0])\n",
        "for i in range(kitaev_data_reduced.shape[0]):\n",
        "  h_over_jz[i] =  kitaev_data.iloc[i,3]/kitaev_data_reduced.iloc[i,2]\n",
        "  jx_over_jz[i] = kitaev_data.iloc[i,0]/kitaev_data_reduced.iloc[i,2]\n",
        "kitaev_data_reduced.insert(4,'h over jz',h_over_jz)\n",
        "kitaev_data_reduced.insert(4,'jx over jz',jx_over_jz)\n",
        "kitaev_data_reduced = kitaev_data_reduced.drop(['jx','jy','h','jz'],axis = 1).dropna()"
      ],
      "metadata": {
        "id": "vFnl2rtTopuq"
      },
      "execution_count": null,
      "outputs": []
    },
    {
      "cell_type": "code",
      "source": [
        "import matplotlib.pyplot as plt\n",
        "import pandas as pd\n",
        "import seaborn as sns\n",
        "from mpl_toolkits.mplot3d import Axes3D\n",
        "\n",
        "sns.set(style = \"darkgrid\")\n",
        "\n",
        "fig = plt.figure()\n",
        "ax = fig.add_subplot(111, projection = '3d')\n",
        "\n",
        "x = np.array(kitaev_data_reduced['jx'])\n",
        "y = np.array(kitaev_data_reduced['jz'])\n",
        "z = np.array(kitaev_data_reduced['magnetisations'])\n",
        " \n",
        "\n",
        "ax.set_xlabel(\"jx\")\n",
        "ax.set_ylabel(\"jz\")\n",
        "ax.set_zlabel(\"magnetisations\")\n",
        "\n",
        "ax.scatter(x, y, z)\n",
        "\n",
        "plt.show()"
      ],
      "metadata": {
        "id": "v3Z5yfBkN0BC"
      },
      "execution_count": null,
      "outputs": []
    },
    {
      "cell_type": "code",
      "source": [
        "# Customize the z axis.\n",
        "#ax.set_zlim(-1.01, 1.01)\n",
        "# Plot the surface.\n",
        "fig = plt.figure()\n",
        "ax = fig.gca(projection='3d')\n",
        "x2,y2 = np.meshgrid(x2,y2)\n",
        "surf = ax.plot_trisurf(np.array(kitaev_data_reduced['jx']), \n",
        "                       np.array(kitaev_data_reduced['jz']), \n",
        "                       np.array(kitaev_data_reduced['magnetisations']), cmap=cm.plasma,\n",
        "                       linewidth=0, antialiased=True)\n",
        "\n",
        "#ax.zaxis.set_major_locator(LinearLocator(10))\n",
        "#ax.zaxis.set_major_formatter(FormatStrFormatter('%.02f'))\n",
        "\n",
        "# Add a color bar which maps values to colors.\n",
        "fig.colorbar(surf, shrink=0.5, aspect=5)\n",
        "\n",
        "plt.show()"
      ],
      "metadata": {
        "id": "sxX72EssTmIz"
      },
      "execution_count": null,
      "outputs": []
    },
    {
      "cell_type": "code",
      "source": [
        "kitaev_data_reduced['magnetisations']"
      ],
      "metadata": {
        "id": "ztidVr9M0o2o"
      },
      "execution_count": null,
      "outputs": []
    },
    {
      "cell_type": "code",
      "source": [
        "from mpl_toolkits.mplot3d import Axes3D\n",
        "import matplotlib.pyplot as plt\n",
        "\n",
        "fig = plt.figure()\n",
        "ax = fig.add_subplot(111, projection='3d')\n",
        "\n",
        "ax.scatter(x, y, z, c='y', marker='o')\n",
        "\n",
        "ax.set_xlabel('X Label')\n",
        "ax.set_ylabel('Y Label')\n",
        "ax.set_zlabel('Z Label')\n",
        "\n",
        "plt.show()"
      ],
      "metadata": {
        "id": "KmsE90hczdGS"
      },
      "execution_count": null,
      "outputs": []
    },
    {
      "cell_type": "markdown",
      "source": [
        "### Plot ground state energy"
      ],
      "metadata": {
        "id": "3TaF9ryNVak-"
      }
    },
    {
      "cell_type": "code",
      "source": [
        "# Customize the z axis.\n",
        "#ax.set_zlim(-1.01, 1.01)\n",
        "# Plot the surface.\n",
        "fig = plt.figure()\n",
        "ax = fig.gca(projection='3d')\n",
        "\n",
        "surf = ax.plot_trisurf(field_constants[:,1], field_constants[:,0], (energy), cmap=cm.plasma,\n",
        "                       linewidth=0, antialiased=True)\n",
        "\n",
        "#ax.zaxis.set_major_locator(LinearLocator(10))\n",
        "#ax.zaxis.set_major_formatter(FormatStrFormatter('%.02f'))\n",
        "\n",
        "# Add a color bar which maps values to colors.\n",
        "fig.colorbar(surf, shrink=0.5, aspect=5)\n",
        "\n",
        "plt.show()"
      ],
      "metadata": {
        "id": "p83GhI_7VcG2"
      },
      "execution_count": null,
      "outputs": []
    },
    {
      "cell_type": "code",
      "source": [
        "# Customize the z axis.\n",
        "#ax.set_zlim(-1.01, 1.01)\n",
        "# Plot the surface.\n",
        "fig = plt.figure()\n",
        "ax = fig.gca(projection='3d')\n",
        "\n",
        "surf = ax.plot_trisurf(field_constants[:,0], field_constants[:,1], (energy), cmap=cm.plasma,\n",
        "                       linewidth=0, antialiased=True)\n",
        "\n",
        "#ax.zaxis.set_major_locator(LinearLocator(10))\n",
        "#ax.zaxis.set_major_formatter(FormatStrFormatter('%.02f'))\n",
        "\n",
        "# Add a color bar which maps values to colors.\n",
        "fig.colorbar(surf, shrink=0.5, aspect=5)\n",
        "\n",
        "plt.show()"
      ],
      "metadata": {
        "id": "mRpXgvfioAel"
      },
      "execution_count": null,
      "outputs": []
    },
    {
      "cell_type": "code",
      "source": [
        "kitaev_data.to_csv('/content/kitaev')"
      ],
      "metadata": {
        "id": "WLaGIUE0_IHs"
      },
      "execution_count": null,
      "outputs": []
    },
    {
      "cell_type": "markdown",
      "source": [
        "### Kitaev phase diagram for noisey data"
      ],
      "metadata": {
        "id": "P9I7AIAw-1Hn"
      }
    },
    {
      "cell_type": "code",
      "source": [
        "noisy_field_magnetisations,noisy_field_ground_states,noisy_field_constants,noisy_enegy = kitaev_octagon_get_data(8,24,10)"
      ],
      "metadata": {
        "id": "cTaX1CCSEGmd"
      },
      "execution_count": null,
      "outputs": []
    },
    {
      "cell_type": "code",
      "source": [
        "noisy_field_kitaev_data = pd.DataFrame([noisy_field_constants[:,0],noisy_field_constants[:,1],noisy_field_magnetisations,noisy_enegy]).T\n",
        "noisy_field_kitaev_data.columns = ['zero_field_h_over_Jz','zero_field_Jxy_over_Jz','zero_field_magnetisations','noisy enegy']"
      ],
      "metadata": {
        "id": "A564-XmCEwLM"
      },
      "execution_count": null,
      "outputs": []
    },
    {
      "cell_type": "code",
      "source": [
        "# Customize the z axis.\n",
        "#ax.set_zlim(-1.01, 1.01)\n",
        "# Plot the surface.\n",
        "fig = plt.figure()\n",
        "ax = fig.gca(projection='3d')\n",
        "\n",
        "surf = ax.plot_trisurf(noisy_field_constants[:,1], noisy_field_constants[:,0], noisy_field_magnetisations, cmap=cm.coolwarm,\n",
        "                       linewidth=0, antialiased=False)\n",
        "\n",
        "#ax.zaxis.set_major_locator(LinearLocator(10))\n",
        "#ax.zaxis.set_major_formatter(FormatStrFormatter('%.02f'))\n",
        "\n",
        "# Add a color bar which maps values to colors.\n",
        "fig.colorbar(surf, shrink=0.5, aspect=5)\n",
        "\n",
        "plt.show()"
      ],
      "metadata": {
        "id": "u0BikU2NEtP5"
      },
      "execution_count": null,
      "outputs": []
    },
    {
      "cell_type": "markdown",
      "source": [
        "### Kmeans"
      ],
      "metadata": {
        "id": "sQIhthti9_C8"
      }
    },
    {
      "cell_type": "code",
      "source": [
        "from sklearn.cluster import KMeans\n",
        "\n",
        "X = np.array(kitaev_data.dropna())\n",
        "kmeans = KMeans(n_clusters=4, random_state=42).fit(X)\n",
        "kmeans.labels_\n",
        "kitaev_data = kitaev_data.dropna()\n",
        "kitaev_data.insert(3,'Kmeans_Labels',kmeans.labels_)"
      ],
      "metadata": {
        "id": "O96yg7QO-AYP"
      },
      "execution_count": null,
      "outputs": []
    },
    {
      "cell_type": "code",
      "source": [
        "kitaev_data.head(100)"
      ],
      "metadata": {
        "id": "0Jf81AkMAYyE"
      },
      "execution_count": null,
      "outputs": []
    },
    {
      "cell_type": "code",
      "source": [
        "sns.pairplot(kitaev_data[['h_over_Jz','Jxy_over_Jz','Kmeans_Labels']], hue=\"Kmeans_Labels\", palette = 'deep')"
      ],
      "metadata": {
        "id": "VzrAybKGAy_j"
      },
      "execution_count": null,
      "outputs": []
    },
    {
      "cell_type": "markdown",
      "source": [
        "### Test train splits"
      ],
      "metadata": {
        "id": "GVuoz1rhoLnv"
      }
    },
    {
      "cell_type": "markdown",
      "source": [
        "Generate labels function:"
      ],
      "metadata": {
        "id": "Z6eiZKDOQgcZ"
      }
    },
    {
      "cell_type": "code",
      "source": [
        "labels = np.zeros(kitaev_data.shape[0])"
      ],
      "metadata": {
        "id": "zhCFL57Sh50R"
      },
      "execution_count": null,
      "outputs": []
    },
    {
      "cell_type": "code",
      "source": [
        "def assign_phase_label(J_x,J_y,J_z,h):\n",
        "\n",
        "  if J_z**2 < J_x**2 + J_y**2:\n",
        "    label = 0\n",
        "    \n",
        "  elif J_z**2 > J_x**2 + J_y**2:\n",
        "    label = 1\n",
        "\n",
        "  return label"
      ],
      "metadata": {
        "id": "OHfEOYx0iBik"
      },
      "execution_count": null,
      "outputs": []
    },
    {
      "cell_type": "code",
      "source": [
        "def assign_phase_label(J_x,J_y,J_z,h):\n",
        "  label = 0\n",
        "  if J_z**2 < J_x**2 + J_y**2:\n",
        "    label = 0\n",
        "  elif J_z**2 > J_x**2 + J_y**2:\n",
        "    label = 1\n",
        "\n",
        "  return label\n",
        "\n",
        "# Label data\n",
        "count_0 = 0\n",
        "count_1 = 0\n",
        "labels = np.zeros(kitaev_data.shape[0])\n",
        "for i in range(kitaev_data.shape[0]):\n",
        "  labels[i] = assign_phase_label(kitaev_data['jx'][i],\n",
        "                                 kitaev_data['jy'][i],\n",
        "                                 kitaev_data['jz'][i],\n",
        "                                 kitaev_data['h'][i])\n",
        "  if labels[i] == 0:\n",
        "    count_0 += 1\n",
        "  else:\n",
        "    count_1 += 1\n",
        "print(count_0,count_1) \n",
        "\n",
        "kitaev_data.insert(4,'labels',labels)"
      ],
      "metadata": {
        "id": "zrhfDRWMiW0l"
      },
      "execution_count": null,
      "outputs": []
    },
    {
      "cell_type": "code",
      "source": [
        "kitaev_data[kitaev_data['labels'] == 0]"
      ],
      "metadata": {
        "id": "6V2WNsJx1vfX"
      },
      "execution_count": null,
      "outputs": []
    },
    {
      "cell_type": "code",
      "source": [
        "kitaev_data[kitaev_data['labels'] == 1]"
      ],
      "metadata": {
        "id": "G7qUORaX0XES"
      },
      "execution_count": null,
      "outputs": []
    },
    {
      "cell_type": "code",
      "source": [
        "#Test, train set preparation\n",
        "n = 8\n",
        "K_X_train_1, K_X_test_1, K_y_train_1, K_y_test_1 = train_test_split(kitaev_data.iloc[:,7:2**n+8], kitaev_data['magnetisations'], test_size=0.2, random_state=42)\n",
        "K_X_train_2, K_X_test_2, K_y_train_2, K_y_test_2 = train_test_split(kitaev_data.iloc[:,7:], kitaev_data['labels'], test_size=0.95, random_state=42)\n",
        "K_X_train_3, K_X_letest_3, K_y_train_3, K_y_test_3 = train_test_split(kitaev_data.iloc[:,7:], kitaev_data['labels'], test_size=0.92, random_state=42)\n",
        "K_X_train_4, K_X_test_4, K_y_train_4, K_y_test_4 = train_test_split(kitaev_data.iloc[:,7:], kitaev_data['labels'], test_size=0.9, random_state=42)"
      ],
      "metadata": {
        "id": "0dWrP0fioGHk"
      },
      "execution_count": null,
      "outputs": []
    },
    {
      "cell_type": "markdown",
      "source": [
        "### Quantum classification"
      ],
      "metadata": {
        "id": "ggjiOlk5rOPd"
      }
    },
    {
      "cell_type": "code",
      "source": [
        "n = 8\n",
        "K_classifier_1 = MLP_2(n,U_conv_6,pointwise_identity_embedding)\n",
        "K_classifier_1.train(K_X_train_1,K_y_train_1)\n",
        "K_expectations_1 = K_classifier_1.predict(K_X_test_1)\n",
        "\n",
        "def classify_bi(exp):\n",
        "  if exp >= 0.5:\n",
        "    pred = 1\n",
        "  else:\n",
        "    pred = 0\n",
        "  return int(pred)\n",
        "\n",
        " #Check the accuracy of the predictions \n",
        "K_correct_1 = 0\n",
        "\n",
        "K_q_predictions_1 = np.zeros(K_y_test_1.shape[0],dtype = 'int32')\n",
        "for i in range(len(K_q_predictions_1)):\n",
        "  K_q_predictions_1[i] = classify_bi(K_expectations_1[i])\n",
        "  #print(q_predictions[i])\n",
        "  if K_q_predictions_1[i] == np.array(K_y_test_1)[i]:\n",
        "    K_correct_1 += 1\n",
        "\n",
        "K_accuracy_1 = (K_correct_1/len(K_q_predictions_1))*100\n",
        "\n",
        "print('The binary classification for the Kitaev chain data set is ', K_accuracy_1 ,'% accurate ')\n",
        "\n",
        "K_y_test_1 = pd.DataFrame(K_y_test_1)\n",
        "\n",
        "\n",
        "K_y_test_1.insert(1,'expectation values',K_expectations_1)\n",
        "K_y_test_1.insert(2,'predicted toric phase classes',K_q_predictions_1)\n"
      ],
      "metadata": {
        "id": "NhGXfKzzrJIo"
      },
      "execution_count": null,
      "outputs": []
    },
    {
      "cell_type": "code",
      "source": [
        "K_y_test_1"
      ],
      "metadata": {
        "id": "kPGCO1jyn6Kw"
      },
      "execution_count": null,
      "outputs": []
    },
    {
      "cell_type": "code",
      "source": [
        "sns.pairplot(K_y_test_1, hue=\"labels\", palette = 'deep')"
      ],
      "metadata": {
        "id": "9bVb5sP2wN_O"
      },
      "execution_count": null,
      "outputs": []
    },
    {
      "cell_type": "code",
      "source": [
        "kitaev_data.insert()"
      ],
      "metadata": {
        "id": "29mprMrIv2HM"
      },
      "execution_count": null,
      "outputs": []
    },
    {
      "cell_type": "markdown",
      "source": [
        "### Tensorflow"
      ],
      "metadata": {
        "id": "r9Vpmw_xDYbc"
      }
    },
    {
      "cell_type": "code",
      "source": [
        "K_model = tf.keras.Sequential([\n",
        "    tf.keras.layers.Dense((2**8), activation='relu'),\n",
        "    tf.keras.layers.Dense(17, activation='relu'),\n",
        "    tf.keras.layers.Dense(2, activation='sigmoid')\n",
        "])\n",
        "\n",
        "K_model.compile(optimizer='adam',\n",
        "              loss=tf.keras.losses.SparseCategoricalCrossentropy(from_logits=True),\n",
        "              metrics=['accuracy'])"
      ],
      "metadata": {
        "id": "O7TdWD9nDUXz"
      },
      "execution_count": null,
      "outputs": []
    },
    {
      "cell_type": "code",
      "source": [
        "K_model_1 = K_model\n",
        "K_model_2 = K_model\n",
        "K_model_3 = K_model\n",
        "K_model_4 = K_model"
      ],
      "metadata": {
        "id": "D0ImZOSjDX4R"
      },
      "execution_count": null,
      "outputs": []
    },
    {
      "cell_type": "code",
      "source": [
        "K_model_1.fit(K_X_train_1,K_y_train_1, epochs=100)"
      ],
      "metadata": {
        "id": "PdCNBf7lDcDU"
      },
      "execution_count": null,
      "outputs": []
    },
    {
      "cell_type": "code",
      "source": [
        "K_predictions_1 = find_nn_predictions(K_model_1,K_X_test_1)\n",
        "  \n",
        "get_accuracy(K_predictions_1,np.array(K_y_test_1))"
      ],
      "metadata": {
        "id": "Nc5k7u4N9eQQ"
      },
      "execution_count": null,
      "outputs": []
    },
    {
      "cell_type": "markdown",
      "source": [
        "## More complicated lattice and hamiltonians"
      ],
      "metadata": {
        "id": "hPlvvreM99EH"
      }
    },
    {
      "cell_type": "markdown",
      "source": [
        "### pyqula (Quantum lattice tight binding models) hamiltonian experimentation \n",
        "https://github.com/joselado/pyqula"
      ],
      "metadata": {
        "id": "Udiv57F8-DjQ"
      }
    },
    {
      "cell_type": "markdown",
      "source": [],
      "metadata": {
        "id": "db5-9cV3rtpI"
      }
    },
    {
      "cell_type": "code",
      "source": [
        "pip install pyqula"
      ],
      "metadata": {
        "id": "132brLiwAZaE"
      },
      "execution_count": null,
      "outputs": []
    },
    {
      "cell_type": "code",
      "execution_count": null,
      "metadata": {
        "id": "-_ljaeAO5Dlr"
      },
      "outputs": [],
      "source": [
        "## Lets make a pretty lattice pip install pyqula"
      ]
    },
    {
      "cell_type": "code",
      "source": [
        "from pyqula import geometry\n",
        "from pyqula import films\n",
        "g = geometry.diamond_lattice()\n",
        "g = films.geometry_film(g,nz=5)\n",
        "h = g.get_hamiltonian()\n",
        "(k,e) = h.get_bands()"
      ],
      "metadata": {
        "id": "5uUrv-YV-I0K"
      },
      "execution_count": null,
      "outputs": []
    },
    {
      "cell_type": "markdown",
      "source": [
        "### Pybinding package https://docs.pybinding.site/en/stable/tutorial/solvers.html"
      ],
      "metadata": {
        "id": "v0bvJ_50-NAL"
      }
    },
    {
      "cell_type": "code",
      "source": [
        "pip install pybinding"
      ],
      "metadata": {
        "id": "CPr_TRn--Iu_"
      },
      "execution_count": null,
      "outputs": []
    },
    {
      "cell_type": "code",
      "source": [
        "import pybinding as pb\n",
        "pb.pltutils.use_style()\n",
        "#run and compare to matplot lib default"
      ],
      "metadata": {
        "id": "kAvwZna4-IsI"
      },
      "execution_count": null,
      "outputs": []
    },
    {
      "cell_type": "code",
      "source": [
        "d = 0.2  # [nm] unit cell length\n",
        "t = 1    # [eV] hopping energy\n",
        "\n",
        "# create a simple 2D lattice with vectors a1 and a2\n",
        "lattice = pb.Lattice(a1=[d, 0], a2=[0, d])\n",
        "lattice.add_sublattices(\n",
        "    ('A', [0, 0])  # add an atom called 'A' at position [0, 0]\n",
        ")\n",
        "lattice.add_hoppings(\n",
        "    # (relative_index, from_sublattice, to_sublattice, energy)\n",
        "    ([0, 1], 'A', 'A', t),\n",
        "    ([1, 0], 'A', 'A', t)\n",
        ")\n"
      ],
      "metadata": {
        "id": "VpxtM56p-IpO"
      },
      "execution_count": null,
      "outputs": []
    },
    {
      "cell_type": "markdown",
      "source": [],
      "metadata": {
        "id": "HjcOyxfWm57k"
      }
    },
    {
      "cell_type": "code",
      "source": [
        "def square_lattice(d, t):\n",
        "    lat = pb.Lattice(a1=[d, 0], a2=[0, d])\n",
        "    lat.add_sublattices(('A', [0, 0]))\n",
        "    lat.add_hoppings(([0, 1], 'A', 'A', t),\n",
        "                     ([1, 0], 'A', 'A', t))\n",
        "    return lat\n",
        "\n",
        "# we can quickly set a shorter unit length `d`\n",
        "lattice = square_lattice(d=0.1, t=1)\n",
        "lattice.plot()\n",
        "plt.show()"
      ],
      "metadata": {
        "id": "S3-9ZzwQ-Imn"
      },
      "execution_count": null,
      "outputs": []
    },
    {
      "cell_type": "code",
      "source": [
        "\n",
        "def monolayer_graphene():\n",
        "    a = 0.24595   # [nm] unit cell length\n",
        "    a_cc = 0.142  # [nm] carbon-carbon distance\n",
        "    t = -2.8      # [eV] nearest neighbour hopping\n",
        "\n",
        "    lat = pb.Lattice(a1=[a, 0],\n",
        "                     a2=[a/2, a/2 * sqrt(3)])\n",
        "    lat.add_sublattices(('A', [0, -a_cc/2]),\n",
        "                        ('B', [0,  a_cc/2]))\n",
        "    lat.add_hoppings(\n",
        "        # inside the main cell\n",
        "        ([0,  0], 'A', 'B', t),\n",
        "        # between neighboring cells\n",
        "        ([1, -1], 'A', 'B', t),\n",
        "        ([0, -1], 'A', 'B', t)\n",
        "    )\n",
        "    return lat\n",
        "\n",
        "lattice = monolayer_graphene()\n",
        "lattice.plot()\n",
        "plt.show()"
      ],
      "metadata": {
        "id": "Ojf0D6E6-IkA"
      },
      "execution_count": null,
      "outputs": []
    },
    {
      "cell_type": "code",
      "source": [
        "model = pb.Model(monolayer_graphene(), pb.translational_symmetry())\n",
        "model.hamiltonian.todense()"
      ],
      "metadata": {
        "id": "vO_5lnZS-Ihb"
      },
      "execution_count": null,
      "outputs": []
    },
    {
      "cell_type": "code",
      "source": [
        "graphine_model = pb.Model(lattice)\n",
        "graphine_model.hamiltonian.todense()"
      ],
      "metadata": {
        "id": "pV1z8bMZ-Iez"
      },
      "execution_count": null,
      "outputs": []
    },
    {
      "cell_type": "code",
      "source": [
        "lattice = monolayer_graphene()\n",
        "lattice.plot_brillouin_zone()"
      ],
      "metadata": {
        "id": "50h_K9ZJ-IcP"
      },
      "execution_count": null,
      "outputs": []
    },
    {
      "cell_type": "code",
      "source": [
        "from pybinding.repository import graphene\n",
        "\n",
        "model = pb.Model(graphene.monolayer())\n",
        "model.plot()\n",
        "\n",
        "model = pb.Model(\n",
        "    graphene.monolayer(),\n",
        "    pb.primitive(a1=5, a2=3)\n",
        ")\n",
        "model.plot()\n",
        "model.lattice.plot_vectors(position=[0.6, -0.25])"
      ],
      "metadata": {
        "id": "5FMs35zK-IZo"
      },
      "execution_count": null,
      "outputs": []
    },
    {
      "cell_type": "code",
      "source": [
        "model.hamiltonian.todense().shape"
      ],
      "metadata": {
        "id": "Iva5yiPk-IXC"
      },
      "execution_count": null,
      "outputs": []
    },
    {
      "cell_type": "code",
      "source": [
        "\"\"\"Model a graphene ring structure and calculate the local density of states\"\"\"\n",
        "\n",
        "pb.pltutils.use_style()\n",
        "\n",
        "\n",
        "def ring(inner_radius, outer_radius):\n",
        "    \"\"\"A simple ring shape\"\"\"\n",
        "    def contains(x, y, z):\n",
        "        r = np.sqrt(x**2 + y**2)\n",
        "        return np.logical_and(inner_radius < r, r < outer_radius)\n",
        "\n",
        "    return pb.FreeformShape(contains, width=[2 * outer_radius, 2 * outer_radius])\n",
        "\n",
        "# Simple shapes\n",
        "rectangle = pb.rectangle(x=6, y=1)\n",
        "hexagon = pb.regular_polygon(num_sides=6, radius=1.92, angle=np.pi/6)\n",
        "circle = pb.circle(radius=0.6)\n",
        "\n",
        "# Compose them naturally\n",
        "shape = rectangle + hexagon - circle\n",
        "\n",
        "\n",
        "model1 = pb.Model(\n",
        "    graphene.monolayer(),\n",
        "    shape  # length in nanometers\n",
        ")\n",
        "\n",
        "model.plot()"
      ],
      "metadata": {
        "id": "qc7hDxV7-IUb"
      },
      "execution_count": null,
      "outputs": []
    },
    {
      "cell_type": "code",
      "source": [
        "# only solve for the 20 lowest energy eigenvalues\n",
        "solver = pb.solver.arpack(model1, k=20)\n",
        "ldos = solver.calc_spatial_ldos(energy=0, broadening=0.05)  # LDOS around 0 eV\n",
        "ldos.plot(site_radius=(0.03, 0.12))\n",
        "pb.pltutils.colorbar(label=\"LDOS\")\n",
        "plt.show()"
      ],
      "metadata": {
        "id": "TtgIKEez-ISF"
      },
      "execution_count": null,
      "outputs": []
    },
    {
      "cell_type": "code",
      "source": [
        "def circle(radius):\n",
        "    def contains(x, y, z):\n",
        "        return np.sqrt(x**2 + y**2) < radius\n",
        "    return pb.FreeformShape(contains, width=[2*radius, 2*radius])\n",
        "\n",
        "model2 = pb.Model(\n",
        "    graphene.monolayer(),\n",
        "    circle(radius=2.5)\n",
        ")\n",
        "model2.plot()"
      ],
      "metadata": {
        "id": "rb7veC0Q-IPc"
      },
      "execution_count": null,
      "outputs": []
    },
    {
      "cell_type": "code",
      "source": [
        "# only solve for the 20 lowest energy eigenvalues\n",
        "solver = pb.solver.arpack(model2, k=20)\n",
        "ldos = solver.calc_spatial_ldos(energy=1, broadening=0.05)  # LDOS around 0 eV\n",
        "ldos.plot(site_radius=(0.03, 0.12))\n",
        "pb.pltutils.colorbar(label=\"LDOS\")\n",
        "plt.show()"
      ],
      "metadata": {
        "id": "RGlSmJ7H-IM1"
      },
      "execution_count": null,
      "outputs": []
    },
    {
      "cell_type": "code",
      "source": [
        "model.hamiltonian.todense()"
      ],
      "metadata": {
        "id": "JdD4bq25-muR"
      },
      "execution_count": null,
      "outputs": []
    },
    {
      "cell_type": "markdown",
      "source": [
        "### Quimb, a package for quantum many particle states and tensor networks https://quimb.readthedocs.io/en/latest/index_core.html"
      ],
      "metadata": {
        "id": "k8g7CBcT-s9M"
      }
    },
    {
      "cell_type": "code",
      "source": [
        "pip install quimb"
      ],
      "metadata": {
        "id": "QpftSCAR-mrn"
      },
      "execution_count": null,
      "outputs": []
    },
    {
      "cell_type": "markdown",
      "source": [
        "### Kwant to openFermion\n",
        "\n",
        "https://github.com/alicjadut/kwant_to_openfermion\n",
        "https://kwant-project.org/"
      ],
      "metadata": {
        "id": "7SiXuPAf-5fy"
      }
    },
    {
      "cell_type": "markdown",
      "source": [
        "#### Code to convert Kwant to Openfermion qubit operator"
      ],
      "metadata": {
        "id": "tzvfSA-C-2ix"
      }
    },
    {
      "cell_type": "code",
      "source": [
        "##########Spin_lattice.py\n",
        "\n",
        "\n",
        "import numpy as np\n",
        "import openfermion\n",
        "import kwant\n",
        "\n",
        "\n",
        "# Define Pauli matrices\n",
        "sigma_0 = np.array([[1., 0.], [0., 1.]])\n",
        "sigma_x = np.array([[0., 1.], [1., 0.]])\n",
        "sigma_y = np.array([[0., -1j], [1j, 0.]])\n",
        "sigma_z = np.array([[1., 0.], [0., -1.]])\n",
        "pauli_matrices = [sigma_0, sigma_x, sigma_y, sigma_z]\n",
        "pauli_names = ['1', 'X', 'Y', 'Z']\n",
        "#Define tensor products of pauli matrices\n",
        "pauli_matrices4 = [np.kron(matrix1, matrix2)\n",
        "                   for matrix1 in pauli_matrices\n",
        "                   for matrix2 in pauli_matrices]\n",
        "pauli_names4 = [(name1, name2) for name1 in pauli_names for name2 in pauli_names]\n",
        "\n",
        "\n",
        "# Transformation from the computational basis to the Pauli basis\n",
        "## 2x2 matrices\n",
        "transformation_matrix2 = np.transpose(np.linalg.inv([m.reshape(4) for m in pauli_matrices]))\n",
        "def _to_pauli_basis_2(m):\n",
        "    vec = m.reshape(4)\n",
        "    return np.dot(transformation_matrix2, vec)    \n",
        "## 4x4 matrices\n",
        "transformation_matrix4 = np.transpose(np.linalg.inv([m.reshape(4*4) for m in pauli_matrices4]))\n",
        "def _to_pauli_basis_4(m):\n",
        "    vec = m.reshape(4*4)\n",
        "    return np.dot(transformation_matrix4, vec)\n",
        "\n",
        "def to_pauli_basis(m):\n",
        "    '''\n",
        "    Return the decomposition of a matrix in the Pauli basis.\n",
        "    Parameters\n",
        "    ----------\n",
        "    m: 2x2 or 4x4 array\n",
        "        The matrix to be decomposed.\n",
        "    Returns\n",
        "    ----------\n",
        "    v: vector of length 4 (for a 2x2 array) or 16 (for a 4x4 array)\n",
        "        The coefficients in the Pauli basis, ordered as pauli_matrices or pauli_matrices4.\n",
        "    '''\n",
        "    try:\n",
        "        return _to_pauli_basis_2(m)\n",
        "    except:\n",
        "        try:\n",
        "            return _to_pauli_basis_4(m)\n",
        "        except:\n",
        "            raise ValueError('Cannot get Pauli coefficients.')\n",
        "\n",
        "\n",
        "\n",
        "def _single_term_to_QubitOperator(val, ix1, ix2):\n",
        "    '''\n",
        "    Export single term of the hamiltonian to openfermion.\n",
        "    Single term means either an onsite/single spin term at lattice site ix1 = ix2\n",
        "    - such as Zeeman hamiltonian - or an interaction between two spins at sites ix1 and ix2.\n",
        "    Parameters\n",
        "    ----------\n",
        "    val: 2x2 array for ix1 = ix2 or 4x4 array for ix1 =/= ix2\n",
        "    ix1, ix2: int\n",
        "        lattice position indices.\n",
        "    Returns\n",
        "    ----------\n",
        "    op: openfermion.QubitOperator\n",
        "    '''\n",
        "\n",
        "    try:\n",
        "        dims = val.shape\n",
        "    except:\n",
        "        raise ValueError(f'Expected a matrix, got {type(val)}.')\n",
        "\n",
        "    pauli_coefs = to_pauli_basis(val)\n",
        "\n",
        "    op = openfermion.QubitOperator()\n",
        "\n",
        "    #On site terms\n",
        "    if ix1 == ix2:\n",
        "        assert dims == (2, 2), f'Onsite terms must be 2x2 matrices, got {dims}'\n",
        "        for name, coef in zip(pauli_names, pauli_coefs):\n",
        "            if name == '1':\n",
        "                op += openfermion.QubitOperator('', coef)\n",
        "            else:\n",
        "                op += openfermion.QubitOperator(name+str(ix1), coef)\n",
        "        return op\n",
        "\n",
        "    #Interaction terms\n",
        "    assert dims == (4, 4), f'Onsite terms must be 4x4 matrices, got {dims}'\n",
        "    for name, coef in zip(pauli_names4, pauli_coefs):\n",
        "        if name == ('1', '1'):\n",
        "            op += openfermion.QubitOperator('', coef)\n",
        "        elif name[0] == '1':\n",
        "            op += openfermion.QubitOperator(name[1]+str(ix2), coef)\n",
        "        elif name[1] == '1':\n",
        "            op += openfermion.QubitOperator(name[0]+str(ix1), coef)\n",
        "        else:\n",
        "            op += openfermion.QubitOperator(name[0]+str(ix1)+' '+name[1]+str(ix2), coef)\n",
        "    return op\n",
        "\n",
        "\n",
        "\n",
        "def system_to_QubitOperator(sys):\n",
        "    '''\n",
        "    Export a spin lattice hamiltonian built in kwant to openfermion.\n",
        "    Parameters\n",
        "    ----------\n",
        "    sys: kwant.system.FiniteSystem or kwant.system.InfiniteSystem\n",
        "    Returns\n",
        "    ----------\n",
        "    ham: openfermion.QubitOperator\n",
        "        The hamiltonian of sys as an openfermion object.\n",
        "    '''\n",
        "\n",
        "    if not isinstance(sys, kwant.system.System):\n",
        "        raise TypeError(f'Expecting an instance of System, got {type(sys)}.')\n",
        "\n",
        "    ham = openfermion.QubitOperator()\n",
        "\n",
        "    #on site terms\n",
        "    for lat_ix in sys.id_by_site.values():\n",
        "        val = sys.hamiltonian(lat_ix, lat_ix)\n",
        "        ham += _single_term_to_QubitOperator(val, lat_ix, lat_ix)\n",
        "\n",
        "    #interaction terms\n",
        "    for edge in range(sys.graph.num_edges):\n",
        "        lat_ix1 = sys.graph.head(edge)\n",
        "        lat_ix2 = sys.graph.tail(edge)\n",
        "        val = sys.hamiltonian(lat_ix1, lat_ix2)/2\n",
        "        ham += _single_term_to_QubitOperator(val, lat_ix1, lat_ix2)\n",
        "\n",
        "    return ham"
      ],
      "metadata": {
        "id": "b3H4sOau-14D"
      },
      "execution_count": null,
      "outputs": []
    },
    {
      "cell_type": "markdown",
      "source": [
        "https://github.com/alicjadut/kwant_to_openfermion/blob/main/demo_notebooks/demo.ipynb"
      ],
      "metadata": {
        "id": "uFIb-WVYRl2v"
      }
    },
    {
      "cell_type": "code",
      "source": [
        "##########Fermionic_system.py\n",
        "\n",
        "import openfermion\n",
        "import kwant\n",
        "\n",
        "class Indexer:\n",
        "    '''\n",
        "    An object that matches lattice and spin indices to\n",
        "    integer indices to be used by openfermion operators.\n",
        "    '''\n",
        "\n",
        "    def __init__(self):\n",
        "        self._indexed_elements = []\n",
        "        self._index_by_element = {}\n",
        "        self._current_index = 0\n",
        "\n",
        "    def index(self, el):\n",
        "        '''\n",
        "        Return an integer index for el.\n",
        "        '''\n",
        "\n",
        "        #If the element was not indexed already, create a new index\n",
        "        if not el in self._indexed_elements:\n",
        "            self._indexed_elements.append(el)\n",
        "            self._index_by_element[el] = self._current_index\n",
        "            self._current_index += 1\n",
        "\n",
        "        return self._index_by_element[el]\n",
        "\n",
        "    def element(self, ix):\n",
        "        '''\n",
        "        Return the element indexed by ix.\n",
        "        '''\n",
        "        return self._indexed_elements[ix]\n",
        "\n",
        "\n",
        "def _single_term_to_FermionOperator(val, lat_ix1, lat_ix2, ind):\n",
        "    '''\n",
        "    Export single term of the hamiltonian to openfermion.\n",
        "    Parameters\n",
        "    ----------\n",
        "    val: number or 2D array\n",
        "    Returns\n",
        "    ----------\n",
        "    op: openfermion.FermionOperator\n",
        "    '''\n",
        "    try:\n",
        "        n_spin1 = val.shape[0]\n",
        "        n_spin2 = val.shape[1]\n",
        "\n",
        "        op = openfermion.FermionOperator()\n",
        "        for spin_ix1 in range(n_spin1):\n",
        "            for spin_ix2 in range(n_spin2):\n",
        "                ix1 = ind.index((lat_ix1, spin_ix1, n_spin1))\n",
        "                ix2 = ind.index((lat_ix2, spin_ix2, n_spin2))\n",
        "                op += openfermion.FermionOperator(f'{ix1}^ {ix2}', val[spin_ix1, spin_ix2])\n",
        "\n",
        "        return op\n",
        "\n",
        "    except:\n",
        "        try:\n",
        "            ix1 = ind.index((lat_ix1, 0, 1))\n",
        "            ix2 = ind.index((lat_ix2, 0, 1))\n",
        "            return openfermion.FermionOperator(f'{ix1}^ {ix2}', val)\n",
        "        except:\n",
        "            raise ValueError(f'''\n",
        "            Cannot construct fermionic operator with\n",
        "            indices {lat_ix1}, {lat_ix2}, value {val}''')\n",
        "\n",
        "def system_to_FermionOperator(sys, return_indexer = False):\n",
        "    '''\n",
        "    Export the hamiltonian of a kwant system to openfermion.\n",
        "    Parameters\n",
        "    ----------\n",
        "    sys: kwant.system.FiniteSystem or kwant.system.InfiniteSystem\n",
        "    return_indexer: bool\n",
        "    Returns\n",
        "    ----------\n",
        "    ham: openfermion.FermionOperator\n",
        "        The hamiltonian of sys as an openfermion object.\n",
        "    indexer: kwant_to_openfermion.Indexer\n",
        "        An object that matched the interger indices used by the\n",
        "        openfermion operator to site and spin indices.\n",
        "    '''\n",
        "\n",
        "    if not isinstance(sys, kwant.system.System):\n",
        "        raise TypeError(f'Expecting an instance of System, got {type(sys)}')\n",
        "\n",
        "    ham = openfermion.FermionOperator()\n",
        "    ind = Indexer()\n",
        "\n",
        "    #on site terms\n",
        "    for lat_ix in sys.id_by_site.values():\n",
        "        val = sys.hamiltonian(lat_ix, lat_ix)\n",
        "        ham += _single_term_to_FermionOperator(val, lat_ix, lat_ix, ind)\n",
        "\n",
        "    #hopping terms\n",
        "    for edge in range(sys.graph.num_edges):\n",
        "        lat_ix1 = sys.graph.head(edge)\n",
        "        lat_ix2 = sys.graph.tail(edge)\n",
        "        val = sys.hamiltonian(lat_ix1, lat_ix2)\n",
        "        ham += _single_term_to_FermionOperator(val, lat_ix1, lat_ix2, ind)\n",
        "\n",
        "    if return_indexer:\n",
        "        return ham, ind\n",
        "    return ham"
      ],
      "metadata": {
        "id": "_bsiq1pq-mmc"
      },
      "execution_count": null,
      "outputs": []
    },
    {
      "cell_type": "markdown",
      "source": [
        "### Kwant practice"
      ],
      "metadata": {
        "id": "RLZ2rLduQ83o"
      }
    },
    {
      "cell_type": "code",
      "source": [
        "sys = kwant.Builder()"
      ],
      "metadata": {
        "id": "Lu1rMgSGQ_Y3"
      },
      "execution_count": null,
      "outputs": []
    },
    {
      "cell_type": "code",
      "source": [
        "#Sqaure lattice, momentum only hamiltonian\n",
        "\n",
        "a = 1 # Lattice constant\n",
        "lat = kwant.lattice.square(a)"
      ],
      "metadata": {
        "id": "NVC9rffAQ_WO"
      },
      "execution_count": null,
      "outputs": []
    },
    {
      "cell_type": "code",
      "source": [
        "t = 1.0\n",
        "W = 10\n",
        "L = 30\n",
        "\n",
        "# Define the scattering region\n",
        "\n",
        "for i in range(L):\n",
        "    for j in range(W):\n",
        "        # On-site Hamiltonian\n",
        "        sys[lat(i, j)] = 4 * t\n",
        "\n",
        "        # Hopping in y-direction\n",
        "        if j > 0:\n",
        "            sys[lat(i, j), lat(i, j - 1)] = -t\n",
        "\n",
        "        # Hopping in x-direction\n",
        "        if i > 0:\n",
        "            sys[lat(i, j), lat(i - 1, j)] = -t\n"
      ],
      "metadata": {
        "id": "8U3Ct_UDQ_TW"
      },
      "execution_count": null,
      "outputs": []
    },
    {
      "cell_type": "code",
      "source": [
        "sym_left_lead = kwant.TranslationalSymmetry((-a, 0))\n",
        "left_lead = kwant.Builder(sym_left_lead)"
      ],
      "metadata": {
        "id": "DaZusdYDQ_QG"
      },
      "execution_count": null,
      "outputs": []
    },
    {
      "cell_type": "code",
      "source": [
        "for j in range(W):\n",
        "    left_lead[lat(0, j)] = 4 * t\n",
        "    if j > 0:\n",
        "        left_lead[lat(0, j), lat(0, j - 1)] = -t\n",
        "    left_lead[lat(1, j), lat(0, j)] = -t"
      ],
      "metadata": {
        "id": "2jCPtF3mQ_M4"
      },
      "execution_count": null,
      "outputs": []
    },
    {
      "cell_type": "code",
      "source": [
        "sys.attach_lead(left_lead)"
      ],
      "metadata": {
        "id": "vrESpXr0Q_KH"
      },
      "execution_count": null,
      "outputs": []
    },
    {
      "cell_type": "code",
      "source": [
        "sym_right_lead = kwant.TranslationalSymmetry((a, 0))\n",
        "right_lead = kwant.Builder(sym_right_lead)\n",
        "\n",
        "for j in range(W):\n",
        "    right_lead[lat(0, j)] = 4 * t\n",
        "    if j > 0:\n",
        "        right_lead[lat(0, j), lat(0, j - 1)] = -t\n",
        "    right_lead[lat(1, j), lat(0, j)] = -t\n",
        "\n",
        "sys.attach_lead(right_lead)"
      ],
      "metadata": {
        "id": "rfwJm2cVQ_Ez"
      },
      "execution_count": null,
      "outputs": []
    },
    {
      "cell_type": "code",
      "source": [
        "kwant.plot(sys)"
      ],
      "metadata": {
        "id": "BEMX3ogjQ_CI"
      },
      "execution_count": null,
      "outputs": []
    },
    {
      "cell_type": "code",
      "source": [
        "sys = sys.finalized()"
      ],
      "metadata": {
        "id": "3a8QC_UDVl_8"
      },
      "execution_count": null,
      "outputs": []
    },
    {
      "cell_type": "code",
      "source": [
        "system_to_QubitOperator(sys)"
      ],
      "metadata": {
        "id": "0nhgKu2tQ-_G"
      },
      "execution_count": null,
      "outputs": []
    },
    {
      "cell_type": "code",
      "source": [
        "import kwant\n",
        "\n",
        "# For plotting\n",
        "from matplotlib import pyplot\n",
        "\n",
        "\n",
        "def make_system(a=1, t=1.0, W=10, L=30):\n",
        "    # Start with an empty tight-binding system and a single square lattice.\n",
        "    # `a` is the lattice constant (by default set to 1 for simplicity.\n",
        "    lat = kwant.lattice.square(a)\n",
        "\n",
        "    sys = kwant.Builder()\n",
        "\n",
        "    sys[(lat(x, y) for x in range(L) for y in range(W))] = 4 * t\n",
        "\n",
        "    sys[lat.neighbors()] = -t\n",
        "\n",
        "\n",
        "    # lead = kwant.Builder(kwant.TranslationalSymmetry((-a, 0)))\n",
        "    # lead[(lat(0, j) for j in range(W))] = 4 * t\n",
        "    # lead[lat.neighbors()] = -t\n",
        "\n",
        "    # sys.attach_lead(lead)\n",
        "    # sys.attach_lead(lead.reversed())\n",
        "\n",
        "    return sys"
      ],
      "metadata": {
        "id": "G1VYvPGVQ-8H"
      },
      "execution_count": null,
      "outputs": []
    },
    {
      "cell_type": "code",
      "source": [
        "sys = make_system(a=1, t=1.0, W=10, L=30)"
      ],
      "metadata": {
        "id": "DABTe25OYOVx"
      },
      "execution_count": null,
      "outputs": []
    },
    {
      "cell_type": "code",
      "source": [
        "sys = sys.finalized()"
      ],
      "metadata": {
        "id": "dPVCZCGwYGZe"
      },
      "execution_count": null,
      "outputs": []
    },
    {
      "cell_type": "code",
      "source": [
        "kwant.plot(sys)"
      ],
      "metadata": {
        "id": "DuGq8OALYUDT"
      },
      "execution_count": null,
      "outputs": []
    },
    {
      "cell_type": "code",
      "source": [],
      "metadata": {
        "id": "2UX77FBUbD7X"
      },
      "execution_count": null,
      "outputs": []
    },
    {
      "cell_type": "code",
      "source": [
        "system_to_QubitOperator(sys)"
      ],
      "metadata": {
        "id": "TuuC_cRIXRs0"
      },
      "execution_count": null,
      "outputs": []
    },
    {
      "cell_type": "markdown",
      "source": [
        "### Update fuctions"
      ],
      "metadata": {
        "id": "eQ98actEEZB0"
      }
    },
    {
      "cell_type": "code",
      "source": [
        "n = 13"
      ],
      "metadata": {
        "id": "pvAwL_AjakGi"
      },
      "execution_count": null,
      "outputs": []
    },
    {
      "cell_type": "code",
      "source": [
        "def sparse_magnetisation_expectation(n,H):\n",
        "  ## Find the ground state of the hamiltonian \n",
        "  E_vals,E_vecs = linalg.eigsh(H) #Sparse Hamiltonian\n",
        "  gs = E_vecs[:,np.argmin(E_vals)]\n",
        "\n",
        "  ## Define the magnetisation\n",
        "  M = QubitOperator()\n",
        "  for i in range(n):\n",
        "    M += QubitOperator(f\"Z{i}\", 1)\n",
        "    M += QubitOperator(f\"X{i}\", 0.1)\n",
        "  M = qubit_operator_sparse(M).real\n",
        "\n",
        "  ## Compute the ground state magnetisation\n",
        "  #print(gs.shape,M.shape)\n",
        "  m_0 = (1/n) * np.conjugate(gs.T) @ M @ gs\n",
        "  m_0 = m_0.real\n",
        "  m_0 = m_0\n",
        "  return m_0,gs"
      ],
      "metadata": {
        "id": "MDUOvQGvEcuF"
      },
      "execution_count": null,
      "outputs": []
    },
    {
      "cell_type": "code",
      "source": [
        "gs.shape"
      ],
      "metadata": {
        "id": "Z9VZ-_zHFpc1"
      },
      "execution_count": null,
      "outputs": []
    },
    {
      "cell_type": "code",
      "source": [
        "## Honeycombe ISING\n"
      ],
      "metadata": {
        "id": "xnhAZ-2E-mjD"
      },
      "execution_count": null,
      "outputs": []
    },
    {
      "cell_type": "code",
      "source": [
        "# Large system\n",
        "# Or we can define a region (such as a circle \n",
        "# ) and use all sites inside this region.\n",
        "\n",
        "r = 1.2\n",
        "J = 1\n",
        "\n",
        "\n",
        "def circle(pos):\n",
        "        x, y = pos\n",
        "        return x ** 2 + y ** 2 < r ** 2\n",
        "\n",
        "lat = kwant.lattice.honeycomb()\n",
        "syst = kwant.Builder()\n",
        "\n",
        "syst[lat.shape(circle, (0,0))] = 1*sigma_0\n",
        "    \n",
        "for hopping, pauli_matrix in zip(lat.neighbors(), [sigma_x, sigma_y, sigma_z]):\n",
        "    syst[hopping] = -J * np.kron(pauli_matrix, pauli_matrix)\n",
        "    \n",
        "syst = syst.finalized()\n",
        "kwant.plot(syst)\n",
        "\n",
        "ham = system_to_QubitOperator(syst)"
      ],
      "metadata": {
        "id": "BDAHIhgO-mgN"
      },
      "execution_count": null,
      "outputs": []
    },
    {
      "cell_type": "code",
      "source": [
        "ham"
      ],
      "metadata": {
        "id": "7mZlb-CrY-ZA"
      },
      "execution_count": null,
      "outputs": []
    },
    {
      "cell_type": "code",
      "source": [
        "#Transverse field Ising Hamiltonian: Modifies a lattice hamiltionian with hopping terms \n",
        "#                                    by adding a magentic field interaction\n",
        "\n",
        "def Honeycomb_Ising(H,n,h=1,periodic_bc = False):\n",
        "  #H = QubitOperator()\n",
        "  for i in range(n):\n",
        "      H += QubitOperator(f\"X{i}\", -h)\n",
        "      H += QubitOperator(f\"Z{i}\", 0.01)\n",
        "  return H"
      ],
      "metadata": {
        "id": "mlmk2z2E-mdj"
      },
      "execution_count": null,
      "outputs": []
    },
    {
      "cell_type": "code",
      "source": [
        "ham = Honeycomb_Ising(ham,n,h=1,periodic_bc = False)\n",
        "\n",
        "ham"
      ],
      "metadata": {
        "id": "w3KEnVwMZTlQ"
      },
      "execution_count": null,
      "outputs": []
    },
    {
      "cell_type": "code",
      "source": [
        "H_sparse = qubit_operator_sparse(Honeycomb_Ising(ham,n,h = 2,periodic_bc = False))"
      ],
      "metadata": {
        "id": "ba0f1o95Dt9I"
      },
      "execution_count": null,
      "outputs": []
    },
    {
      "cell_type": "code",
      "source": [
        "H_sparse.todense().real"
      ],
      "metadata": {
        "id": "VnjYBm8KWDK7"
      },
      "execution_count": null,
      "outputs": []
    },
    {
      "cell_type": "code",
      "source": [
        "m,g = sparse_magnetisation_expectation(n, qubit_operator_sparse(Honeycomb_Ising(ham,n,h = 2,periodic_bc = False)))"
      ],
      "metadata": {
        "id": "eIOhVpQBEtpL"
      },
      "execution_count": null,
      "outputs": []
    },
    {
      "cell_type": "code",
      "source": [
        "m"
      ],
      "metadata": {
        "id": "cIIZE0dzE6ZD"
      },
      "execution_count": null,
      "outputs": []
    },
    {
      "cell_type": "code",
      "source": [
        "def _get_data_honeycomb(H,n,datapoints):\n",
        "\n",
        "  field_constants = np.linspace(-20,30,datapoints)\n",
        "  magnetisations = np.zeros(len(field_constants))\n",
        "  Ground_states = np.zeros((len(field_constants),2**n))  \n",
        "  for i in range(len(field_constants)):\n",
        "    H_dummy = qubit_operator_sparse(Honeycomb_Ising(H,n,h = field_constants[i],periodic_bc = False))\n",
        "    m,g = sparse_magnetisation_expectation(n,H_dummy)\n",
        "    magnetisations[i] = m\n",
        "    g = g.reshape(2**n)\n",
        "\n",
        "    Ground_states[i,:] = g \n",
        "  magnetisations = magnetisations.reshape(datapoints)\n",
        "  return magnetisations,Ground_states,field_constants\n",
        "\n"
      ],
      "metadata": {
        "id": "YIIcGOWg-mat"
      },
      "execution_count": null,
      "outputs": []
    },
    {
      "cell_type": "markdown",
      "source": [
        "### Generate HC data"
      ],
      "metadata": {
        "id": "qdQd7JAviuYa"
      }
    },
    {
      "cell_type": "code",
      "source": [
        "HC_magnetisations,HC_Ground_states,HC_field_constants = _get_data_honeycomb(ham,n,100)"
      ],
      "metadata": {
        "id": "YnZGpJpw-mVm"
      },
      "execution_count": null,
      "outputs": []
    },
    {
      "cell_type": "code",
      "source": [
        "HC_magnetisations.shape"
      ],
      "metadata": {
        "id": "09L4EyjA54of"
      },
      "execution_count": null,
      "outputs": []
    },
    {
      "cell_type": "code",
      "source": [
        "HC_magnetisations,HC_Ground_states,HC_field_constants"
      ],
      "metadata": {
        "id": "Rz-CM5Ihh4oG"
      },
      "execution_count": null,
      "outputs": []
    },
    {
      "cell_type": "markdown",
      "source": [
        "### Classification"
      ],
      "metadata": {
        "id": "QvX6qZC5iwed"
      }
    },
    {
      "cell_type": "code",
      "source": [
        "HC_n = 13\n",
        "\n",
        "classifier = MLP_2(HC_n,U_conv_6,pointwise_identity_embedding)\n",
        "HC_gs = pd.DataFrame(HC_Ground_states)\n",
        "HC_gs = pd.DataFrame(HC_gs.iloc[:,:])\n",
        "HC_labels = np.zeros(len(HC_magnetisations))\n",
        "\n",
        "for i in range(len(HC_magnetisations)):\n",
        "  if HC_magnetisations[i] < -0.5:\n",
        "    HC_labels[i] = 1\n",
        "  else:\n",
        "    HC_labels[i] = 0\n",
        "\n",
        "HC_gs.insert(2**HC_n,'field_constants', HC_field_constants)\n",
        "HC_gs.insert(2**HC_n,'labels',HC_labels)\n",
        "HC_gs.insert(2**HC_n,'True Magnetisations', HC_magnetisations)\n",
        "HC_X_train, HC_X_test, HC_y_train, HC_y_test = train_test_split(HC_gs.iloc[:,0:2**n], HC_gs.iloc[:,2**n:2**n+3], test_size=0.33, random_state=42)\n"
      ],
      "metadata": {
        "id": "4vIPz1lY-mS8"
      },
      "execution_count": null,
      "outputs": []
    },
    {
      "cell_type": "code",
      "source": [
        "plt.plot(np.linspace(-20,40,100),HC_magnetisations)\n",
        "#plt.xscale('log')\n",
        "plt.legend(['Magnetisation'])\n",
        "plt.title('Magnetisations of various field strengths')\n",
        "plt.xlabel('Relative transverse field strength')\n",
        "plt.ylabel('Magnetisation')"
      ],
      "metadata": {
        "id": "5RpUK30s-mQC"
      },
      "execution_count": null,
      "outputs": []
    },
    {
      "cell_type": "code",
      "source": [],
      "metadata": {
        "id": "ZPxsyvuo-mN4"
      },
      "execution_count": null,
      "outputs": []
    },
    {
      "cell_type": "code",
      "source": [],
      "metadata": {
        "id": "m9xX4JXi-mLZ"
      },
      "execution_count": null,
      "outputs": []
    },
    {
      "cell_type": "code",
      "source": [],
      "metadata": {
        "id": "r3ph3uDc-mJT"
      },
      "execution_count": null,
      "outputs": []
    },
    {
      "cell_type": "code",
      "source": [],
      "metadata": {
        "id": "TQ50ejrQ-mGZ"
      },
      "execution_count": null,
      "outputs": []
    },
    {
      "cell_type": "code",
      "source": [],
      "metadata": {
        "id": "mS0WdUu6-mDk"
      },
      "execution_count": null,
      "outputs": []
    },
    {
      "cell_type": "code",
      "source": [],
      "metadata": {
        "id": "3smWt_CX-mBH"
      },
      "execution_count": null,
      "outputs": []
    },
    {
      "cell_type": "code",
      "source": [],
      "metadata": {
        "id": "uhe0gzOf-l-E"
      },
      "execution_count": null,
      "outputs": []
    },
    {
      "cell_type": "code",
      "source": [],
      "metadata": {
        "id": "4hn5zBiD-l7M"
      },
      "execution_count": null,
      "outputs": []
    }
  ],
  "metadata": {
    "colab": {
      "collapsed_sections": [
        "-yFgk2LYauIf",
        "bf6koOHpgPUE",
        "U_nP9Ocn6Rzq",
        "LubvRNfL6O68",
        "SU7_oFEFr3cj",
        "NccEm2T-sA0r",
        "rbQg9_nvoACU",
        "oFWpadPt8cnG",
        "FKTr3Z45mlzh",
        "2fer8Ys--wNd",
        "3TaF9ryNVak-",
        "P9I7AIAw-1Hn",
        "sQIhthti9_C8",
        "r9Vpmw_xDYbc",
        "Udiv57F8-DjQ"
      ],
      "provenance": [],
      "machine_shape": "hm",
      "private_outputs": true,
      "toc_visible": true,
      "history_visible": true,
      "mount_file_id": "1ZH_RR3UeijfwZ8dxG-AiB3yNDeUkkAS7",
      "authorship_tag": "ABX9TyNz+OTgrqcb63ZAVz5bm39l",
      "include_colab_link": true
    },
    "kernelspec": {
      "display_name": "Python 3",
      "name": "python3"
    },
    "language_info": {
      "name": "python"
    },
    "gpuClass": "standard"
  },
  "nbformat": 4,
  "nbformat_minor": 0
}